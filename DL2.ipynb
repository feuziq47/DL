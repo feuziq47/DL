{
  "nbformat": 4,
  "nbformat_minor": 0,
  "metadata": {
    "colab": {
      "name": "DL2.ipynb",
      "version": "0.3.2",
      "provenance": [],
      "collapsed_sections": [],
      "include_colab_link": true
    },
    "kernelspec": {
      "name": "python3",
      "display_name": "Python 3"
    },
    "accelerator": "GPU"
  },
  "cells": [
    {
      "cell_type": "markdown",
      "metadata": {
        "id": "view-in-github",
        "colab_type": "text"
      },
      "source": [
        "<a href=\"https://colab.research.google.com/github/feuziq47/DL/blob/master/DL2.ipynb\" target=\"_parent\"><img src=\"https://colab.research.google.com/assets/colab-badge.svg\" alt=\"Open In Colab\"/></a>"
      ]
    },
    {
      "cell_type": "code",
      "metadata": {
        "id": "NEPE3VKFaT6c",
        "colab_type": "code",
        "outputId": "b6a75104-c199-47a7-c474-c25e11b29c69",
        "colab": {
          "base_uri": "https://localhost:8080/",
          "height": 34
        }
      },
      "source": [
        "from google.colab import drive\n",
        "drive.mount('/content/gdrive')"
      ],
      "execution_count": 2,
      "outputs": [
        {
          "output_type": "stream",
          "text": [
            "Drive already mounted at /content/gdrive; to attempt to forcibly remount, call drive.mount(\"/content/gdrive\", force_remount=True).\n"
          ],
          "name": "stdout"
        }
      ]
    },
    {
      "cell_type": "code",
      "metadata": {
        "id": "q-d2Du53aaky",
        "colab_type": "code",
        "outputId": "19ae13d8-1b2b-4b19-f69f-d99608df1c57",
        "colab": {
          "base_uri": "https://localhost:8080/",
          "height": 50
        }
      },
      "source": [
        "cd gdrive/My Drive/DeepLearn"
      ],
      "execution_count": 0,
      "outputs": [
        {
          "output_type": "stream",
          "text": [
            "[Errno 2] No such file or directory: 'gdrive/My Drive/DeepLearn'\n",
            "/content/gdrive/My Drive/DeepLearn\n"
          ],
          "name": "stdout"
        }
      ]
    },
    {
      "cell_type": "code",
      "metadata": {
        "id": "waouXXMqiKc8",
        "colab_type": "code",
        "colab": {}
      },
      "source": [
        "!git config --global user.name \"feuziq47\""
      ],
      "execution_count": 0,
      "outputs": []
    },
    {
      "cell_type": "code",
      "metadata": {
        "id": "2r3Sj2H7bbXs",
        "colab_type": "code",
        "outputId": "b48b79f6-9277-4316-c6ca-3bdaad084e53",
        "colab": {
          "base_uri": "https://localhost:8080/",
          "height": 118
        }
      },
      "source": [
        "!git clone https://github.com/feuziq47/DeepLearn.git"
      ],
      "execution_count": 0,
      "outputs": [
        {
          "output_type": "stream",
          "text": [
            "Cloning into 'DeepLearn'...\n",
            "remote: Enumerating objects: 6, done.\u001b[K\n",
            "remote: Counting objects: 100% (6/6), done.\u001b[K\n",
            "remote: Compressing objects: 100% (5/5), done.\u001b[K\n",
            "remote: Total 6 (delta 0), reused 0 (delta 0), pack-reused 0\u001b[K\n",
            "Unpacking objects: 100% (6/6), done.\n"
          ],
          "name": "stdout"
        }
      ]
    },
    {
      "cell_type": "code",
      "metadata": {
        "id": "b4RFN8gtc9qx",
        "colab_type": "code",
        "outputId": "ac1e78d3-52f8-4963-d915-13535ef0ed0e",
        "colab": {
          "base_uri": "https://localhost:8080/",
          "height": 34
        }
      },
      "source": [
        "!git push origin master"
      ],
      "execution_count": 0,
      "outputs": [
        {
          "output_type": "stream",
          "text": [
            "fatal: could not read Username for 'https://github.com': No such device or address\n"
          ],
          "name": "stdout"
        }
      ]
    },
    {
      "cell_type": "code",
      "metadata": {
        "id": "D9YbU224RTpC",
        "colab_type": "code",
        "colab": {}
      },
      "source": [
        "# softmax function의 구현\n",
        "def softmax(a):\n",
        "  exp_a=np.exp(a)\n",
        "  sum_exp_a=np.sum(exp_a)\n",
        "  y=exp_a/sum_exp_a\n",
        "  return y"
      ],
      "execution_count": 0,
      "outputs": []
    },
    {
      "cell_type": "code",
      "metadata": {
        "id": "Zz9j3QZ-hsLI",
        "colab_type": "code",
        "outputId": "873b0720-d464-4b94-c1a2-08ba93630258",
        "colab": {
          "base_uri": "https://localhost:8080/",
          "height": 269
        }
      },
      "source": [
        "#Sigmoid Function 구현 및 시각화\n",
        "import numpy as np\n",
        "import matplotlib.pylab as plt\n",
        "\n",
        "def sigmoid(x):\n",
        "  return 1/(1+np.exp(-x))\n",
        "X=np.arange(-5.0,5.0,0.1)\n",
        "Y=sigmoid(X)\n",
        "plt.plot(X,Y)\n",
        "plt.ylim(-0.1,1.1)\n",
        "plt.show()"
      ],
      "execution_count": 0,
      "outputs": [
        {
          "output_type": "display_data",
          "data": {
            "image/png": "[encoded data removed]",
            "text/plain": [
              "<Figure size 432x288 with 1 Axes>"
            ]
          },
          "metadata": {
            "tags": []
          }
        }
      ]
    },
    {
      "cell_type": "code",
      "metadata": {
        "id": "Z77CZoU-azOV",
        "colab_type": "code",
        "colab": {}
      },
      "source": [
        "from tensorflow.keras.datasets import mnist\n",
        "\n",
        "(x_train,y_train),(x_test,y_test)=mnist.load_data()\n",
        "\n",
        "x_train=x_train.reshape(60000,28*28)\n",
        "x_train=x_train.astype('float32')/255\n",
        "\n",
        "x_test=x_test.reshape(10000,28*28)\n",
        "x_test=x_test.astype('float32')/255"
      ],
      "execution_count": 0,
      "outputs": []
    },
    {
      "cell_type": "code",
      "metadata": {
        "id": "ktZMlEeiiy51",
        "colab_type": "code",
        "outputId": "7a810c6d-edf0-4e06-d07b-7096647138d3",
        "colab": {
          "base_uri": "https://localhost:8080/",
          "height": 34
        }
      },
      "source": [
        "print(y_train[:])"
      ],
      "execution_count": 0,
      "outputs": [
        {
          "output_type": "stream",
          "text": [
            "[5 0 4 ... 5 6 8]\n"
          ],
          "name": "stdout"
        }
      ]
    },
    {
      "cell_type": "code",
      "metadata": {
        "id": "xRGRB9IWbYnF",
        "colab_type": "code",
        "colab": {}
      },
      "source": [
        "# 기학습된 모델 import 및 함수 정의\n",
        "import pickle\n",
        "import numpy as np\n",
        "\n",
        "def init_network():\n",
        "  with open(\"sample_weight.pkl\",'rb') as f:\n",
        "    network=pickle.load(f)\n",
        "  return network"
      ],
      "execution_count": 0,
      "outputs": []
    },
    {
      "cell_type": "code",
      "metadata": {
        "id": "yTKovtqVfb4v",
        "colab_type": "code",
        "colab": {}
      },
      "source": [
        "# predict 함수구현\n",
        "def predict(network,x):\n",
        "  W1,W2,W3=network['W1'],network['W2'],network['W3']\n",
        "  b1,b2,b3=network['b1'],network['b2'],network['b3']\n",
        "  \n",
        "  a1=np.dot(x,W1)+b1\n",
        "  z1=sigmoid(a1)\n",
        "  a2=np.dot(z1,W2)+b2\n",
        "  z2=sigmoid(a2)\n",
        "  a3=np.dot(z2,W3)+b3\n",
        "  y=softmax(a3)\n",
        "  \n",
        "  return y"
      ],
      "execution_count": 0,
      "outputs": []
    },
    {
      "cell_type": "code",
      "metadata": {
        "id": "odDaq34JgqGw",
        "colab_type": "code",
        "outputId": "31445975-4408-40c7-d1c8-6a26be569c66",
        "colab": {
          "base_uri": "https://localhost:8080/",
          "height": 34
        }
      },
      "source": [
        "# 모델 구현 및 Predict\n",
        "network=init_network()\n",
        "accuracy_cnt=0\n",
        "for i in range(len(x_train)):\n",
        "  y=predict(network,x_train[i])\n",
        "  p=np.argmax(y) #확률이 가장 높은 원소의 인덱스를 얻음\n",
        "  if p==y_train[i]:\n",
        "    accuracy_cnt+=1\n",
        "print(\"Accuracy:\"+str(float(accuracy_cnt)/len(x_train)))"
      ],
      "execution_count": 0,
      "outputs": [
        {
          "output_type": "stream",
          "text": [
            "Accuracy:0.9357666666666666\n"
          ],
          "name": "stdout"
        }
      ]
    },
    {
      "cell_type": "code",
      "metadata": {
        "id": "PhL1yob8l_L7",
        "colab_type": "code",
        "outputId": "dd9f5e24-85e1-4872-b64b-64169cddc21c",
        "colab": {
          "base_uri": "https://localhost:8080/",
          "height": 34
        }
      },
      "source": [
        "print(network['W3'].shape)"
      ],
      "execution_count": 0,
      "outputs": [
        {
          "output_type": "stream",
          "text": [
            "(100, 10)\n"
          ],
          "name": "stdout"
        }
      ]
    },
    {
      "cell_type": "code",
      "metadata": {
        "id": "y_1ZiT2minjj",
        "colab_type": "code",
        "outputId": "fde1c59a-890e-4063-c941-29be3cfba123",
        "colab": {
          "base_uri": "https://localhost:8080/",
          "height": 34
        }
      },
      "source": [
        "# Batch 처리\n",
        "import time\n",
        "network=init_network()\n",
        "batch_size=100\n",
        "accuracy_cnt=0\n",
        "start_time=time.time();\n",
        "for i in range(0,len(x_train),batch_size):\n",
        "  x_batch=x_train[i:i+batch_size]\n",
        "  y_batch=predict(network,x_batch)\n",
        "  p=np.argmax(y_batch,axis=1)\n",
        "  accuracy_cnt+=np.sum(p==y_train[i:i+batch_size])\n",
        "print(\"Accuracy:\"+str(float(accuracy_cnt)/len(x_train)),time.time()-start_time)"
      ],
      "execution_count": 0,
      "outputs": [
        {
          "output_type": "stream",
          "text": [
            "Accuracy:0.9357666666666666 0.38004064559936523\n"
          ],
          "name": "stdout"
        }
      ]
    },
    {
      "cell_type": "code",
      "metadata": {
        "id": "MwVkoHf8_PNk",
        "colab_type": "code",
        "colab": {}
      },
      "source": [
        "# MSE(Mean Square Error) 함수 정의\n",
        "def mean_squared_error(y,t):\n",
        "  return 0.5*np.sum((y-t)**2)"
      ],
      "execution_count": 0,
      "outputs": []
    },
    {
      "cell_type": "code",
      "metadata": {
        "id": "xVEbqnu8_-GN",
        "colab_type": "code",
        "outputId": "1bc8cc4d-48b6-4bcb-f980-c088689caccb",
        "colab": {
          "base_uri": "https://localhost:8080/",
          "height": 34
        }
      },
      "source": [
        "# MSE 사용예\n",
        "t=np.zeros(10)\n",
        "t[2]=1\n",
        "y=[0.1,0.05,0.6,0,0.01,0,0,0,0,0.2]\n",
        "mean_squared_error(np.array(y),np.array(t))"
      ],
      "execution_count": 0,
      "outputs": [
        {
          "output_type": "execute_result",
          "data": {
            "text/plain": [
              "0.10630000000000002"
            ]
          },
          "metadata": {
            "tags": []
          },
          "execution_count": 57
        }
      ]
    },
    {
      "cell_type": "code",
      "metadata": {
        "id": "03daYaF4K05U",
        "colab_type": "code",
        "colab": {}
      },
      "source": [
        "# CEE(Cross Entropy Error) 함수 정의\n",
        "def cross_entropy_error(y,t):\n",
        "  delta=1e-7\n",
        "  return -np.sum(t*np.log(y+delta))"
      ],
      "execution_count": 0,
      "outputs": []
    },
    {
      "cell_type": "code",
      "metadata": {
        "id": "_z34cw5DM2b3",
        "colab_type": "code",
        "outputId": "5cf5c373-5e7f-4c12-e1e0-972bcb177663",
        "colab": {
          "base_uri": "https://localhost:8080/",
          "height": 34
        }
      },
      "source": [
        "# CEE 사용예\n",
        "t=np.zeros(10)\n",
        "t[2]=1\n",
        "y=[0.1,0.05,0.9,0,0.01,0,0,0,0,0.2]\n",
        "cross_entropy_error(np.array(y),np.array(t))"
      ],
      "execution_count": 0,
      "outputs": [
        {
          "output_type": "execute_result",
          "data": {
            "text/plain": [
              "0.1053604045467214"
            ]
          },
          "metadata": {
            "tags": []
          },
          "execution_count": 62
        }
      ]
    },
    {
      "cell_type": "code",
      "metadata": {
        "id": "H4KgIXxkNAnu",
        "colab_type": "code",
        "colab": {}
      },
      "source": [
        "# batch CEE 함수 정의\n",
        "def cross_entropy_error(y,t):\n",
        "  if y.ndim==1:  # batch 데이터가 아닌 경우\n",
        "    t=t.reshape(1,t.size)\n",
        "    y=y.reshape(1,y.size)\n",
        "  batch_size=y.shape[0]\n",
        "  return -np.sum(t*np.log(y))/batch_size\n",
        "    "
      ],
      "execution_count": 0,
      "outputs": []
    },
    {
      "cell_type": "code",
      "metadata": {
        "id": "MqOskLgZUGTO",
        "colab_type": "code",
        "colab": {}
      },
      "source": [
        "# Gradient Descent 함수 정의\n",
        "def numerical_gradient_no_batch(f,x):\n",
        "  h=1e-4\n",
        "  grad=np.zeros_like(x)\n",
        "  \n",
        "  for idx in range(x.size):\n",
        "    tmp_val=x[idx]\n",
        "    \n",
        "    #f(x+h) 계산\n",
        "    x[idx]=float(tmp_val)+h\n",
        "    fxh1=f(x)\n",
        "    #f(x-h) 계산\n",
        "    x[idx]=float(tmp_val)-h\n",
        "    fxh2=f(x)\n",
        "    \n",
        "    grad[idx]=(fxh1-fxh2)/(2*h)\n",
        "    x[idx]=tmp_val #값 복원\n",
        "  return grad"
      ],
      "execution_count": 0,
      "outputs": []
    },
    {
      "cell_type": "code",
      "metadata": {
        "id": "gbSOsL2qUwYg",
        "colab_type": "code",
        "colab": {}
      },
      "source": [
        "# Gradient Descent batch 함수 정의\n",
        "def numerical_gradient(f,X):\n",
        "  if X.ndim==1:\n",
        "    return numerical_gradient_no_batch(f,X)\n",
        "  else:\n",
        "    grad=np.zeros_like(X)\n",
        "    \n",
        "    for idx,x in enumerate(X):\n",
        "      grad[idx]=numerical_gradient_no_batch(f,x)\n",
        "    return grad"
      ],
      "execution_count": 0,
      "outputs": []
    },
    {
      "cell_type": "code",
      "metadata": {
        "id": "1k1gf-v2VIHC",
        "colab_type": "code",
        "colab": {}
      },
      "source": [
        "# Gradient 줄이는 함수\n",
        "def gradient_descent(f,init_x,lr=0.01,step_num=100):\n",
        "  x= init_x\n",
        "  \n",
        "  for i in range(step_num):\n",
        "    grad=numerical_gradient(f,x)\n",
        "    x-=lr*grad\n",
        "  return x"
      ],
      "execution_count": 0,
      "outputs": []
    },
    {
      "cell_type": "code",
      "metadata": {
        "id": "Z74bXAaninW-",
        "colab_type": "code",
        "colab": {}
      },
      "source": [
        "# example f 정의\n",
        "def function_2(x):\n",
        "    if x.ndim == 1:\n",
        "        return np.sum(x**2)\n",
        "    else:\n",
        "        return np.sum(x**2, axis=1)"
      ],
      "execution_count": 0,
      "outputs": []
    },
    {
      "cell_type": "code",
      "metadata": {
        "id": "L8msPyEFWpOy",
        "colab_type": "code",
        "outputId": "da74e25d-d320-4993-a0c3-98299dc93d4c",
        "colab": {
          "base_uri": "https://localhost:8080/",
          "height": 34
        }
      },
      "source": [
        "# gradient descent 사용예\n",
        "init_x=np.array([-3.0,4.0])\n",
        "gradient_descent(function_2,init_x=init_x,lr=0.1,step_num=100)"
      ],
      "execution_count": 0,
      "outputs": [
        {
          "output_type": "execute_result",
          "data": {
            "text/plain": [
              "array([-6.11110793e-10,  8.14814391e-10])"
            ]
          },
          "metadata": {
            "tags": []
          },
          "execution_count": 72
        }
      ]
    },
    {
      "cell_type": "code",
      "metadata": {
        "id": "u0Ejgbc3iwzf",
        "colab_type": "code",
        "outputId": "4baffb96-c28e-4f76-ea6f-d7a86a877d33",
        "colab": {
          "base_uri": "https://localhost:8080/",
          "height": 317
        }
      },
      "source": [
        "#function_2 함수 그리기\n",
        "x0 = np.arange(-2, 2.5, 0.25)\n",
        "x1 = np.arange(-2, 2.5, 0.25)\n",
        "X, Y = np.meshgrid(x0, x1)\n",
        "    \n",
        "X = X.flatten()\n",
        "Y = Y.flatten()\n",
        "    \n",
        "grad = numerical_gradient(function_2, np.array([X, Y]) )\n",
        "    \n",
        "plt.figure()\n",
        "plt.quiver(X, Y, -grad[0], -grad[1],  angles=\"xy\",color=\"#666666\")#,headwidth=10,scale=40,color=\"#444444\")\n",
        "plt.xlim([-2, 2])\n",
        "plt.ylim([-2, 2])\n",
        "plt.xlabel('x0')\n",
        "plt.ylabel('x1')\n",
        "plt.grid()\n",
        "plt.legend()\n",
        "plt.draw()\n",
        "plt.show()"
      ],
      "execution_count": 0,
      "outputs": [
        {
          "output_type": "stream",
          "text": [
            "WARNING: Logging before flag parsing goes to stderr.\n",
            "W0723 06:36:41.348159 140006752319360 legend.py:1289] No handles with labels found to put in legend.\n"
          ],
          "name": "stderr"
        },
        {
          "output_type": "display_data",
          "data": {
            "image/png": "[encoded data removed]",
            "text/plain": [
              "<Figure size 432x288 with 1 Axes>"
            ]
          },
          "metadata": {
            "tags": []
          }
        }
      ]
    },
    {
      "cell_type": "code",
      "metadata": {
        "id": "26DJ2p15i-Nn",
        "colab_type": "code",
        "outputId": "63e17272-7272-4dbc-b521-8b989d12f210",
        "colab": {
          "base_uri": "https://localhost:8080/",
          "height": 300
        }
      },
      "source": [
        "def gradient_descent(f, init_x, lr=0.01, step_num=100):\n",
        "    x = init_x\n",
        "    x_history = []\n",
        "\n",
        "    for i in range(step_num):\n",
        "        x_history.append( x.copy() )\n",
        "\n",
        "        grad = numerical_gradient(f, x)\n",
        "        x -= lr * grad\n",
        "\n",
        "    return x, np.array(x_history)\n",
        "\n",
        "init_x = np.array([-3.0, 4.0])    \n",
        "\n",
        "lr = 0.1\n",
        "step_num = 20\n",
        "x, x_history = gradient_descent(function_2, init_x, lr=lr, step_num=step_num)\n",
        "\n",
        "plt.plot( [-5, 5], [0,0], '--b')\n",
        "plt.plot( [0,0], [-5, 5], '--b')\n",
        "plt.plot(x_history[:,0], x_history[:,1], 'o')\n",
        "\n",
        "plt.xlim(-3.5, 3.5)\n",
        "plt.ylim(-4.5, 4.5)\n",
        "plt.xlabel(\"X0\")\n",
        "plt.ylabel(\"X1\")\n"
      ],
      "execution_count": 0,
      "outputs": [
        {
          "output_type": "execute_result",
          "data": {
            "text/plain": [
              "Text(0, 0.5, 'X1')"
            ]
          },
          "metadata": {
            "tags": []
          },
          "execution_count": 79
        },
        {
          "output_type": "display_data",
          "data": {
            "image/png": "[encoded data removed]",
            "text/plain": [
              "<Figure size 432x288 with 1 Axes>"
            ]
          },
          "metadata": {
            "tags": []
          }
        }
      ]
    },
    {
      "cell_type": "code",
      "metadata": {
        "id": "dVYDewM7jZLo",
        "colab_type": "code",
        "colab": {}
      },
      "source": [
        "init_x=np.array([-3.0,4.0])\n",
        "gradient_descent(function_2,init_x=init_x,lr=1e-10,step_num=100)"
      ],
      "execution_count": 0,
      "outputs": []
    },
    {
      "cell_type": "code",
      "metadata": {
        "id": "S4iuRQd8m-pW",
        "colab_type": "code",
        "colab": {}
      },
      "source": [
        "# 2Layer Neural Network를 class로 구현\n",
        "import numpy as np\n",
        "def sigmoid_grad(x):\n",
        "  return (1.0-sigmoid(x))*sigmoid(x)\n",
        "\n",
        "class TwoLayerNet:\n",
        "  def __init__(self, input_size, hidden_size,output_size,weight_init_std=0.01):\n",
        "    self.params={}\n",
        "    self.params['W1']=weight_init_std*np.random.randn(input_size,hidden_size)\n",
        "    self.params['b1']=np.zeros(hidden_size)\n",
        "    self.params['W2']=weight_init_std*np.random.randn(hidden_size,output_size)\n",
        "    self.params['b2']=np.zeros(output_size)\n",
        "  def predict(self,x):\n",
        "    W1,W2= self.params['W1'],self.params['W2']\n",
        "    b1,b2= self.params['b1'],self.params['b2']\n",
        "    \n",
        "    a1=np.dot(x,W1)+b1\n",
        "    z1=sigmoid(a1)\n",
        "    a2=np.dot(z1,W2)+b2\n",
        "    y=softmax(a2)\n",
        "    \n",
        "    return y\n",
        "  # x:입력 데이터, t:정답 데이터\n",
        "  def loss(self,x,t):\n",
        "    y=self.predict(x)\n",
        "    return cross_entropy_error(y,t)\n",
        "  def accuracy(self,x,t):\n",
        "    y=self.predict(x)\n",
        "    y=np.argmax(y,axis=1)\n",
        "    t=np.argmax(t,axis=1)\n",
        "    \n",
        "    accuracy=np.sum(y==t)/float(x.shape[0])\n",
        "    return accuracy\n",
        "  \n",
        "  #x:입력 데이터, y:정답 데이터\n",
        "  def numerical_gradient(self,x,t):\n",
        "    loss_W=lambda W: self.loss(x,t)\n",
        "    \n",
        "    grads={}\n",
        "    grads['W1']=numerical_gradient(loss_W,self.params['W1'])\n",
        "    grads['b1']=numerical_gradient(loss_W,self.params['b1'])\n",
        "    grads['W2']=numerical_gradient(loss_W,self.params['W2'])\n",
        "    grads['b2']=numerical_gradient(loss_W,self.params['b2'])\n",
        "    return grads\n",
        "    "
      ],
      "execution_count": 0,
      "outputs": []
    },
    {
      "cell_type": "code",
      "metadata": {
        "id": "dHqb1JgexwJl",
        "colab_type": "code",
        "colab": {}
      },
      "source": [
        "# 학습 알고리즘 구현\n",
        "# Mini Batch를 통한 학습\n",
        "# categorical : one-hot encoding을 해준다.\n",
        "\n",
        "import numpy as np\n",
        "from tensorflow.keras.datasets import mnist\n",
        "from tensorflow.keras.utils import to_categorical\n",
        "\n",
        "(x_train,y_train),(x_test,y_test)=mnist.load_data()\n",
        "\n",
        "x_train=x_train.reshape(60000,28*28)\n",
        "x_train=x_train.astype('float32')/255\n",
        "\n",
        "x_test=x_test.reshape(10000,28*28)\n",
        "x_test=x_test.astype('float32')/255\n",
        "\n",
        "y_train=to_categorical(y_train)\n",
        "y_test=to_categorical(y_test)"
      ],
      "execution_count": 0,
      "outputs": []
    },
    {
      "cell_type": "code",
      "metadata": {
        "id": "WS2qZgR1yPeo",
        "colab_type": "code",
        "outputId": "faee3b5f-dc3d-4ce5-8b02-dbdde2699803",
        "colab": {
          "base_uri": "https://localhost:8080/",
          "height": 371
        }
      },
      "source": [
        "network=TwoLayerNet(input_size=784,hidden_size=50,output_size=10)\n",
        "\n",
        "#하이퍼파라미터\n",
        "iters_num=100 #반복 횟수 설정\n",
        "train_size=x_train.shape[0]\n",
        "batch_size=100 #묶음의 크기\n",
        "learning_rate=0.1\n",
        "\n",
        "train_loss_list=[] # 학습 과정 중 loss값의 변화 list\n",
        "train_acc_list=[]  # 학습 과정 중 accuracy값의 변화 list\n",
        "test_acc_list=[]   # test중 accuracy 값의 변화 list\n",
        "\n",
        "# 1epoch당 반복수==step_num\n",
        "iter_per_epoch=max(train_size/batch_size,1)\n",
        "for i in range(iters_num):\n",
        "  #미니 배치 획득\n",
        "  batch_mask=np.random.choice(train_size,batch_size)\n",
        "  x_batch=x_train[batch_mask]\n",
        "  y_batch=y_train[batch_mask]\n",
        "  \n",
        "  #기울기 계산\n",
        "  grad=network.numerical_gradient(x_batch,y_batch)\n",
        "  \n",
        "  #매개변수 갱신\n",
        "  for key in ('W1','b1','W2','b2'):\n",
        "    network.params[key]-=learning_rate*grad[key]\n",
        "    \n",
        "  #학습 과정 기록\n",
        "  loss=network.loss(x_batch,y_batch)\n",
        "  train_loss_list.append(loss)\n",
        "  \n",
        "  # 1epoch당 정확도 계산\n",
        " # if i% iter_per_epoch==0:\n",
        "  train_acc=network.accuracy(x_train,y_train)\n",
        "  test_acc=network.accuracy(x_test,y_test)\n",
        "  train_acc_list.append(train_acc)\n",
        "  test_acc_list.append(test_acc)\n",
        "  print(\"train acc, test acc | \"+str(train_acc)+\", \"+str(test_acc))"
      ],
      "execution_count": 0,
      "outputs": [
        {
          "output_type": "error",
          "ename": "KeyboardInterrupt",
          "evalue": "ignored",
          "traceback": [
            "\u001b[0;31m---------------------------------------------------------------------------\u001b[0m",
            "\u001b[0;31mKeyboardInterrupt\u001b[0m                         Traceback (most recent call last)",
            "\u001b[0;32m<ipython-input-99-e39935bae236>\u001b[0m in \u001b[0;36m<module>\u001b[0;34m()\u001b[0m\n\u001b[1;32m     20\u001b[0m \u001b[0;34m\u001b[0m\u001b[0m\n\u001b[1;32m     21\u001b[0m   \u001b[0;31m#기울기 계산\u001b[0m\u001b[0;34m\u001b[0m\u001b[0;34m\u001b[0m\u001b[0;34m\u001b[0m\u001b[0m\n\u001b[0;32m---> 22\u001b[0;31m   \u001b[0mgrad\u001b[0m\u001b[0;34m=\u001b[0m\u001b[0mnetwork\u001b[0m\u001b[0;34m.\u001b[0m\u001b[0mnumerical_gradient\u001b[0m\u001b[0;34m(\u001b[0m\u001b[0mx_batch\u001b[0m\u001b[0;34m,\u001b[0m\u001b[0my_batch\u001b[0m\u001b[0;34m)\u001b[0m\u001b[0;34m\u001b[0m\u001b[0;34m\u001b[0m\u001b[0m\n\u001b[0m\u001b[1;32m     23\u001b[0m \u001b[0;34m\u001b[0m\u001b[0m\n\u001b[1;32m     24\u001b[0m   \u001b[0;31m#매개변수 갱신\u001b[0m\u001b[0;34m\u001b[0m\u001b[0;34m\u001b[0m\u001b[0;34m\u001b[0m\u001b[0m\n",
            "\u001b[0;32m<ipython-input-88-3302a42420f4>\u001b[0m in \u001b[0;36mnumerical_gradient\u001b[0;34m(self, x, t)\u001b[0m\n\u001b[1;32m     37\u001b[0m \u001b[0;34m\u001b[0m\u001b[0m\n\u001b[1;32m     38\u001b[0m     \u001b[0mgrads\u001b[0m\u001b[0;34m=\u001b[0m\u001b[0;34m{\u001b[0m\u001b[0;34m}\u001b[0m\u001b[0;34m\u001b[0m\u001b[0;34m\u001b[0m\u001b[0m\n\u001b[0;32m---> 39\u001b[0;31m     \u001b[0mgrads\u001b[0m\u001b[0;34m[\u001b[0m\u001b[0;34m'W1'\u001b[0m\u001b[0;34m]\u001b[0m\u001b[0;34m=\u001b[0m\u001b[0mnumerical_gradient\u001b[0m\u001b[0;34m(\u001b[0m\u001b[0mloss_W\u001b[0m\u001b[0;34m,\u001b[0m\u001b[0mself\u001b[0m\u001b[0;34m.\u001b[0m\u001b[0mparams\u001b[0m\u001b[0;34m[\u001b[0m\u001b[0;34m'W1'\u001b[0m\u001b[0;34m]\u001b[0m\u001b[0;34m)\u001b[0m\u001b[0;34m\u001b[0m\u001b[0;34m\u001b[0m\u001b[0m\n\u001b[0m\u001b[1;32m     40\u001b[0m     \u001b[0mgrads\u001b[0m\u001b[0;34m[\u001b[0m\u001b[0;34m'b1'\u001b[0m\u001b[0;34m]\u001b[0m\u001b[0;34m=\u001b[0m\u001b[0mnumerical_gradient\u001b[0m\u001b[0;34m(\u001b[0m\u001b[0mloss_W\u001b[0m\u001b[0;34m,\u001b[0m\u001b[0mself\u001b[0m\u001b[0;34m.\u001b[0m\u001b[0mparams\u001b[0m\u001b[0;34m[\u001b[0m\u001b[0;34m'b1'\u001b[0m\u001b[0;34m]\u001b[0m\u001b[0;34m)\u001b[0m\u001b[0;34m\u001b[0m\u001b[0;34m\u001b[0m\u001b[0m\n\u001b[1;32m     41\u001b[0m     \u001b[0mgrads\u001b[0m\u001b[0;34m[\u001b[0m\u001b[0;34m'W2'\u001b[0m\u001b[0;34m]\u001b[0m\u001b[0;34m=\u001b[0m\u001b[0mnumerical_gradient\u001b[0m\u001b[0;34m(\u001b[0m\u001b[0mloss_W\u001b[0m\u001b[0;34m,\u001b[0m\u001b[0mself\u001b[0m\u001b[0;34m.\u001b[0m\u001b[0mparams\u001b[0m\u001b[0;34m[\u001b[0m\u001b[0;34m'W2'\u001b[0m\u001b[0;34m]\u001b[0m\u001b[0;34m)\u001b[0m\u001b[0;34m\u001b[0m\u001b[0;34m\u001b[0m\u001b[0m\n",
            "\u001b[0;32m<ipython-input-91-3504b97cd815>\u001b[0m in \u001b[0;36mnumerical_gradient\u001b[0;34m(f, X)\u001b[0m\n\u001b[1;32m      6\u001b[0m \u001b[0;34m\u001b[0m\u001b[0m\n\u001b[1;32m      7\u001b[0m     \u001b[0;32mfor\u001b[0m \u001b[0midx\u001b[0m\u001b[0;34m,\u001b[0m\u001b[0mx\u001b[0m \u001b[0;32min\u001b[0m \u001b[0menumerate\u001b[0m\u001b[0;34m(\u001b[0m\u001b[0mX\u001b[0m\u001b[0;34m)\u001b[0m\u001b[0;34m:\u001b[0m\u001b[0;34m\u001b[0m\u001b[0;34m\u001b[0m\u001b[0m\n\u001b[0;32m----> 8\u001b[0;31m       \u001b[0mgrad\u001b[0m\u001b[0;34m[\u001b[0m\u001b[0midx\u001b[0m\u001b[0;34m]\u001b[0m\u001b[0;34m=\u001b[0m\u001b[0mnumerical_gradient_no_batch\u001b[0m\u001b[0;34m(\u001b[0m\u001b[0mf\u001b[0m\u001b[0;34m,\u001b[0m\u001b[0mx\u001b[0m\u001b[0;34m)\u001b[0m\u001b[0;34m\u001b[0m\u001b[0;34m\u001b[0m\u001b[0m\n\u001b[0m\u001b[1;32m      9\u001b[0m     \u001b[0;32mreturn\u001b[0m \u001b[0mgrad\u001b[0m\u001b[0;34m\u001b[0m\u001b[0;34m\u001b[0m\u001b[0m\n",
            "\u001b[0;32m<ipython-input-66-4d225c18848e>\u001b[0m in \u001b[0;36mnumerical_gradient_no_batch\u001b[0;34m(f, x)\u001b[0m\n\u001b[1;32m      8\u001b[0m     \u001b[0;31m#f(x+h) 계산\u001b[0m\u001b[0;34m\u001b[0m\u001b[0;34m\u001b[0m\u001b[0;34m\u001b[0m\u001b[0m\n\u001b[1;32m      9\u001b[0m     \u001b[0mx\u001b[0m\u001b[0;34m[\u001b[0m\u001b[0midx\u001b[0m\u001b[0;34m]\u001b[0m\u001b[0;34m=\u001b[0m\u001b[0mfloat\u001b[0m\u001b[0;34m(\u001b[0m\u001b[0mtmp_val\u001b[0m\u001b[0;34m)\u001b[0m\u001b[0;34m+\u001b[0m\u001b[0mh\u001b[0m\u001b[0;34m\u001b[0m\u001b[0;34m\u001b[0m\u001b[0m\n\u001b[0;32m---> 10\u001b[0;31m     \u001b[0mfxh1\u001b[0m\u001b[0;34m=\u001b[0m\u001b[0mf\u001b[0m\u001b[0;34m(\u001b[0m\u001b[0mx\u001b[0m\u001b[0;34m)\u001b[0m\u001b[0;34m\u001b[0m\u001b[0;34m\u001b[0m\u001b[0m\n\u001b[0m\u001b[1;32m     11\u001b[0m     \u001b[0;31m#f(x-h) 계산\u001b[0m\u001b[0;34m\u001b[0m\u001b[0;34m\u001b[0m\u001b[0;34m\u001b[0m\u001b[0m\n\u001b[1;32m     12\u001b[0m     \u001b[0mx\u001b[0m\u001b[0;34m[\u001b[0m\u001b[0midx\u001b[0m\u001b[0;34m]\u001b[0m\u001b[0;34m=\u001b[0m\u001b[0mfloat\u001b[0m\u001b[0;34m(\u001b[0m\u001b[0mtmp_val\u001b[0m\u001b[0;34m)\u001b[0m\u001b[0;34m-\u001b[0m\u001b[0mh\u001b[0m\u001b[0;34m\u001b[0m\u001b[0;34m\u001b[0m\u001b[0m\n",
            "\u001b[0;32m<ipython-input-88-3302a42420f4>\u001b[0m in \u001b[0;36m<lambda>\u001b[0;34m(W)\u001b[0m\n\u001b[1;32m     34\u001b[0m   \u001b[0;31m#x:입력 데이터, y:정답 데이터\u001b[0m\u001b[0;34m\u001b[0m\u001b[0;34m\u001b[0m\u001b[0;34m\u001b[0m\u001b[0m\n\u001b[1;32m     35\u001b[0m   \u001b[0;32mdef\u001b[0m \u001b[0mnumerical_gradient\u001b[0m\u001b[0;34m(\u001b[0m\u001b[0mself\u001b[0m\u001b[0;34m,\u001b[0m\u001b[0mx\u001b[0m\u001b[0;34m,\u001b[0m\u001b[0mt\u001b[0m\u001b[0;34m)\u001b[0m\u001b[0;34m:\u001b[0m\u001b[0;34m\u001b[0m\u001b[0;34m\u001b[0m\u001b[0m\n\u001b[0;32m---> 36\u001b[0;31m     \u001b[0mloss_W\u001b[0m\u001b[0;34m=\u001b[0m\u001b[0;32mlambda\u001b[0m \u001b[0mW\u001b[0m\u001b[0;34m:\u001b[0m \u001b[0mself\u001b[0m\u001b[0;34m.\u001b[0m\u001b[0mloss\u001b[0m\u001b[0;34m(\u001b[0m\u001b[0mx\u001b[0m\u001b[0;34m,\u001b[0m\u001b[0mt\u001b[0m\u001b[0;34m)\u001b[0m\u001b[0;34m\u001b[0m\u001b[0;34m\u001b[0m\u001b[0m\n\u001b[0m\u001b[1;32m     37\u001b[0m \u001b[0;34m\u001b[0m\u001b[0m\n\u001b[1;32m     38\u001b[0m     \u001b[0mgrads\u001b[0m\u001b[0;34m=\u001b[0m\u001b[0;34m{\u001b[0m\u001b[0;34m}\u001b[0m\u001b[0;34m\u001b[0m\u001b[0;34m\u001b[0m\u001b[0m\n",
            "\u001b[0;32m<ipython-input-88-3302a42420f4>\u001b[0m in \u001b[0;36mloss\u001b[0;34m(self, x, t)\u001b[0m\n\u001b[1;32m     22\u001b[0m   \u001b[0;31m# x:입력 데이터, t:정답 데이터\u001b[0m\u001b[0;34m\u001b[0m\u001b[0;34m\u001b[0m\u001b[0;34m\u001b[0m\u001b[0m\n\u001b[1;32m     23\u001b[0m   \u001b[0;32mdef\u001b[0m \u001b[0mloss\u001b[0m\u001b[0;34m(\u001b[0m\u001b[0mself\u001b[0m\u001b[0;34m,\u001b[0m\u001b[0mx\u001b[0m\u001b[0;34m,\u001b[0m\u001b[0mt\u001b[0m\u001b[0;34m)\u001b[0m\u001b[0;34m:\u001b[0m\u001b[0;34m\u001b[0m\u001b[0;34m\u001b[0m\u001b[0m\n\u001b[0;32m---> 24\u001b[0;31m     \u001b[0my\u001b[0m\u001b[0;34m=\u001b[0m\u001b[0mself\u001b[0m\u001b[0;34m.\u001b[0m\u001b[0mpredict\u001b[0m\u001b[0;34m(\u001b[0m\u001b[0mx\u001b[0m\u001b[0;34m)\u001b[0m\u001b[0;34m\u001b[0m\u001b[0;34m\u001b[0m\u001b[0m\n\u001b[0m\u001b[1;32m     25\u001b[0m     \u001b[0;32mreturn\u001b[0m \u001b[0mcross_entropy_error\u001b[0m\u001b[0;34m(\u001b[0m\u001b[0my\u001b[0m\u001b[0;34m,\u001b[0m\u001b[0mt\u001b[0m\u001b[0;34m)\u001b[0m\u001b[0;34m\u001b[0m\u001b[0;34m\u001b[0m\u001b[0m\n\u001b[1;32m     26\u001b[0m   \u001b[0;32mdef\u001b[0m \u001b[0maccuracy\u001b[0m\u001b[0;34m(\u001b[0m\u001b[0mself\u001b[0m\u001b[0;34m,\u001b[0m\u001b[0mx\u001b[0m\u001b[0;34m,\u001b[0m\u001b[0mt\u001b[0m\u001b[0;34m)\u001b[0m\u001b[0;34m:\u001b[0m\u001b[0;34m\u001b[0m\u001b[0;34m\u001b[0m\u001b[0m\n",
            "\u001b[0;32m<ipython-input-88-3302a42420f4>\u001b[0m in \u001b[0;36mpredict\u001b[0;34m(self, x)\u001b[0m\n\u001b[1;32m     14\u001b[0m     \u001b[0mb1\u001b[0m\u001b[0;34m,\u001b[0m\u001b[0mb2\u001b[0m\u001b[0;34m=\u001b[0m \u001b[0mself\u001b[0m\u001b[0;34m.\u001b[0m\u001b[0mparams\u001b[0m\u001b[0;34m[\u001b[0m\u001b[0;34m'b1'\u001b[0m\u001b[0;34m]\u001b[0m\u001b[0;34m,\u001b[0m\u001b[0mself\u001b[0m\u001b[0;34m.\u001b[0m\u001b[0mparams\u001b[0m\u001b[0;34m[\u001b[0m\u001b[0;34m'b2'\u001b[0m\u001b[0;34m]\u001b[0m\u001b[0;34m\u001b[0m\u001b[0;34m\u001b[0m\u001b[0m\n\u001b[1;32m     15\u001b[0m \u001b[0;34m\u001b[0m\u001b[0m\n\u001b[0;32m---> 16\u001b[0;31m     \u001b[0ma1\u001b[0m\u001b[0;34m=\u001b[0m\u001b[0mnp\u001b[0m\u001b[0;34m.\u001b[0m\u001b[0mdot\u001b[0m\u001b[0;34m(\u001b[0m\u001b[0mx\u001b[0m\u001b[0;34m,\u001b[0m\u001b[0mW1\u001b[0m\u001b[0;34m)\u001b[0m\u001b[0;34m+\u001b[0m\u001b[0mb1\u001b[0m\u001b[0;34m\u001b[0m\u001b[0;34m\u001b[0m\u001b[0m\n\u001b[0m\u001b[1;32m     17\u001b[0m     \u001b[0mz1\u001b[0m\u001b[0;34m=\u001b[0m\u001b[0msigmoid\u001b[0m\u001b[0;34m(\u001b[0m\u001b[0ma1\u001b[0m\u001b[0;34m)\u001b[0m\u001b[0;34m\u001b[0m\u001b[0;34m\u001b[0m\u001b[0m\n\u001b[1;32m     18\u001b[0m     \u001b[0ma2\u001b[0m\u001b[0;34m=\u001b[0m\u001b[0mnp\u001b[0m\u001b[0;34m.\u001b[0m\u001b[0mdot\u001b[0m\u001b[0;34m(\u001b[0m\u001b[0mz1\u001b[0m\u001b[0;34m,\u001b[0m\u001b[0mW2\u001b[0m\u001b[0;34m)\u001b[0m\u001b[0;34m+\u001b[0m\u001b[0mb2\u001b[0m\u001b[0;34m\u001b[0m\u001b[0;34m\u001b[0m\u001b[0m\n",
            "\u001b[0;31mKeyboardInterrupt\u001b[0m: "
          ]
        }
      ]
    },
    {
      "cell_type": "code",
      "metadata": {
        "id": "RBO8nos31ZFx",
        "colab_type": "code",
        "colab": {}
      },
      "source": [
        "# 학습결과 시각화\n",
        "import matplotlib.pyplot as plt\n",
        "\n",
        "markers={'train':'o','test':'s'}\n",
        "x=np.arange(len(train_acc_list))\n",
        "plt.plot(x,train_acc_list,label='train acc')\n",
        "plt.plot(x,test_acc_list,label='test acc',linestyle='--')\n",
        "\n",
        "plt.xlabel(\"epochs\")\n",
        "plt.ylabel(\"accuracy\")\n",
        "plt.ylim(0.0, 1.0)\n",
        "plt.legend(loc='lower right')\n",
        "plt.show()"
      ],
      "execution_count": 0,
      "outputs": []
    }
  ]
}