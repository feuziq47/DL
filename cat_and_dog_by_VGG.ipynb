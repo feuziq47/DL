{
  "nbformat": 4,
  "nbformat_minor": 0,
  "metadata": {
    "colab": {
      "name": "cat_and_dog_by_VGG.ipynb",
      "version": "0.3.2",
      "provenance": [],
      "collapsed_sections": [],
      "include_colab_link": true
    },
    "kernelspec": {
      "name": "python3",
      "display_name": "Python 3"
    },
    "accelerator": "GPU"
  },
  "cells": [
    {
      "cell_type": "markdown",
      "metadata": {
        "id": "view-in-github",
        "colab_type": "text"
      },
      "source": [
        "<a href=\"https://colab.research.google.com/github/feuziq47/DL/blob/master/cat_and_dog_by_VGG.ipynb\" target=\"_parent\"><img src=\"https://colab.research.google.com/assets/colab-badge.svg\" alt=\"Open In Colab\"/></a>"
      ]
    },
    {
      "cell_type": "code",
      "metadata": {
        "id": "bqtExhD-CC07",
        "colab_type": "code",
        "outputId": "90186600-a0bf-47a0-e103-43f7e3dfdc7a",
        "colab": {
          "base_uri": "https://localhost:8080/",
          "height": 54
        }
      },
      "source": [
        "# VGG16 feature extraction을 이용한 overfitting 극복\n",
        "\n",
        "from google.colab import drive\n",
        "drive.mount('/content/drive')"
      ],
      "execution_count": 0,
      "outputs": [
        {
          "output_type": "stream",
          "text": [
            "Drive already mounted at /content/drive; to attempt to forcibly remount, call drive.mount(\"/content/drive\", force_remount=True).\n"
          ],
          "name": "stdout"
        }
      ]
    },
    {
      "cell_type": "code",
      "metadata": {
        "id": "v-I22tGoD-f3",
        "colab_type": "code",
        "outputId": "3fcf676d-91db-4ef5-db84-117f09063b0d",
        "colab": {
          "base_uri": "https://localhost:8080/",
          "height": 286
        }
      },
      "source": [
        "!nvidia-smi"
      ],
      "execution_count": 0,
      "outputs": [
        {
          "output_type": "stream",
          "text": [
            "Wed Jul 24 09:58:59 2019       \n",
            "+-----------------------------------------------------------------------------+\n",
            "| NVIDIA-SMI 418.67       Driver Version: 410.79       CUDA Version: 10.0     |\n",
            "|-------------------------------+----------------------+----------------------+\n",
            "| GPU  Name        Persistence-M| Bus-Id        Disp.A | Volatile Uncorr. ECC |\n",
            "| Fan  Temp  Perf  Pwr:Usage/Cap|         Memory-Usage | GPU-Util  Compute M. |\n",
            "|===============================+======================+======================|\n",
            "|   0  Tesla T4            Off  | 00000000:00:04.0 Off |                    0 |\n",
            "| N/A   42C    P0    26W /  70W |  11460MiB / 15079MiB |      0%      Default |\n",
            "+-------------------------------+----------------------+----------------------+\n",
            "                                                                               \n",
            "+-----------------------------------------------------------------------------+\n",
            "| Processes:                                                       GPU Memory |\n",
            "|  GPU       PID   Type   Process name                             Usage      |\n",
            "|=============================================================================|\n",
            "+-----------------------------------------------------------------------------+\n"
          ],
          "name": "stdout"
        }
      ]
    },
    {
      "cell_type": "code",
      "metadata": {
        "id": "zdrdRbd6EBga",
        "colab_type": "code",
        "colab": {}
      },
      "source": [
        "from tensorflow.keras.applications import VGG16\n",
        "from tensorflow.keras import models, layers, optimizers\n",
        "from tensorflow.keras.preprocessing.image import ImageDataGenerator\n",
        "\n",
        "\n",
        "import os\n",
        "import matplotlib.pyplot as plt"
      ],
      "execution_count": 0,
      "outputs": []
    },
    {
      "cell_type": "code",
      "metadata": {
        "id": "deDmGiJEEFx7",
        "colab_type": "code",
        "colab": {}
      },
      "source": [
        "base_dir = '/content/drive/My Drive/DeepLearn/cats_and_dogs_small'\n",
        "\n",
        "train_dir = os.path.join(base_dir, 'train')\n",
        "validation_dir = os.path.join(base_dir, 'validation')\n",
        "test_dir = os.path.join(base_dir, 'test')"
      ],
      "execution_count": 0,
      "outputs": []
    },
    {
      "cell_type": "code",
      "metadata": {
        "id": "60gKsZR-EJXx",
        "colab_type": "code",
        "colab": {}
      },
      "source": [
        "conv_base = VGG16(weights='imagenet',\n",
        "                  include_top=False,\n",
        "                  input_shape=(150, 150, 3))"
      ],
      "execution_count": 0,
      "outputs": []
    },
    {
      "cell_type": "code",
      "metadata": {
        "id": "MRhPAQEFEiDs",
        "colab_type": "code",
        "colab": {}
      },
      "source": [
        "model = models.Sequential()\n",
        "model.add(conv_base)\n",
        "model.add(layers.Flatten())\n",
        "model.add(layers.Dense(256, activation='relu'))\n",
        "model.add(layers.Dropout(rate=0.5))\n",
        "model.add(layers.Dense(1, activation='sigmoid'))"
      ],
      "execution_count": 0,
      "outputs": []
    },
    {
      "cell_type": "code",
      "metadata": {
        "id": "OgAsP0_QElOn",
        "colab_type": "code",
        "outputId": "e7e19047-f4b7-4e80-8841-47d602361ea7",
        "colab": {
          "base_uri": "https://localhost:8080/",
          "height": 34
        }
      },
      "source": [
        "print('conv_base를 동결하기 전 훈련되는 가중치의 수:', \n",
        "      len(model.trainable_weights))"
      ],
      "execution_count": 0,
      "outputs": [
        {
          "output_type": "stream",
          "text": [
            "conv_base를 동결하기 전 훈련되는 가중치의 수: 30\n"
          ],
          "name": "stdout"
        }
      ]
    },
    {
      "cell_type": "code",
      "metadata": {
        "id": "h3gBF75PEmEW",
        "colab_type": "code",
        "colab": {}
      },
      "source": [
        "conv_base.trainable = False"
      ],
      "execution_count": 0,
      "outputs": []
    },
    {
      "cell_type": "code",
      "metadata": {
        "id": "_q8UAYZTEmwo",
        "colab_type": "code",
        "outputId": "503d7d12-e7a7-4613-ba0b-4cc9235d598b",
        "colab": {
          "base_uri": "https://localhost:8080/",
          "height": 34
        }
      },
      "source": [
        "print('conv_base를 동결한 후 훈련되는 가중치의 수:', \n",
        "      len(model.trainable_weights))"
      ],
      "execution_count": 0,
      "outputs": [
        {
          "output_type": "stream",
          "text": [
            "conv_base를 동결한 후 훈련되는 가중치의 수: 4\n"
          ],
          "name": "stdout"
        }
      ]
    },
    {
      "cell_type": "code",
      "metadata": {
        "id": "hIBRuUw8Enfu",
        "colab_type": "code",
        "outputId": "a00241d1-5317-4564-a21e-28369b330a5f",
        "colab": {
          "base_uri": "https://localhost:8080/",
          "height": 1000
        }
      },
      "source": [
        "train_datagen = ImageDataGenerator(\n",
        "      rescale=1./255,\n",
        "      rotation_range=20,\n",
        "      width_shift_range=0.1,\n",
        "      height_shift_range=0.1,\n",
        "      shear_range=0.1,\n",
        "      zoom_range=0.1,\n",
        "      horizontal_flip=True,\n",
        "      fill_mode='nearest')\n",
        "\n",
        "# 검증 데이터는 증식되어서는 안 됩니다!\n",
        "test_datagen = ImageDataGenerator(rescale=1./255)\n",
        "\n",
        "train_generator = train_datagen.flow_from_directory(\n",
        "        # 타깃 디렉터리\n",
        "        train_dir,\n",
        "        # 모든 이미지의 크기를 150 × 150로 변경합니다\n",
        "        target_size=(150, 150),\n",
        "        batch_size=20,\n",
        "        # binary_crossentropy 손실을 사용하므로 이진 레이블이 필요합니다\n",
        "        class_mode='binary')\n",
        "\n",
        "validation_generator = test_datagen.flow_from_directory(\n",
        "        validation_dir,\n",
        "        target_size=(150, 150),\n",
        "        batch_size=20,\n",
        "        class_mode='binary')\n",
        "\n",
        "model.compile(loss='binary_crossentropy',\n",
        "              optimizer=optimizers.RMSprop(lr=2e-5),\n",
        "              metrics=['acc'])\n",
        "\n",
        "history = model.fit_generator(\n",
        "      train_generator,\n",
        "      steps_per_epoch=100,\n",
        "      epochs=30,\n",
        "      validation_data=validation_generator,\n",
        "      validation_steps=50,\n",
        "      verbose=2)"
      ],
      "execution_count": 0,
      "outputs": [
        {
          "output_type": "stream",
          "text": [
            "Found 366 images belonging to 2 classes.\n",
            "Found 340 images belonging to 2 classes.\n",
            "Epoch 1/30\n",
            "100/100 - 22s - loss: 0.6311 - acc: 0.6420 - val_loss: 0.4634 - val_acc: 0.8090\n",
            "Epoch 2/30\n",
            "100/100 - 20s - loss: 0.4780 - acc: 0.7677 - val_loss: 0.3974 - val_acc: 0.8390\n",
            "Epoch 3/30\n",
            "100/100 - 20s - loss: 0.4043 - acc: 0.8269 - val_loss: 0.3565 - val_acc: 0.8550\n",
            "Epoch 4/30\n",
            "100/100 - 21s - loss: 0.3556 - acc: 0.8585 - val_loss: 0.3347 - val_acc: 0.8610\n",
            "Epoch 5/30\n",
            "100/100 - 20s - loss: 0.3324 - acc: 0.8680 - val_loss: 0.3623 - val_acc: 0.8440\n",
            "Epoch 6/30\n",
            "100/100 - 20s - loss: 0.3072 - acc: 0.8683 - val_loss: 0.3188 - val_acc: 0.8710\n",
            "Epoch 7/30\n",
            "100/100 - 20s - loss: 0.2812 - acc: 0.8873 - val_loss: 0.3604 - val_acc: 0.8530\n",
            "Epoch 8/30\n",
            "100/100 - 21s - loss: 0.2677 - acc: 0.8974 - val_loss: 0.3280 - val_acc: 0.8690\n",
            "Epoch 9/30\n",
            "100/100 - 19s - loss: 0.2478 - acc: 0.9104 - val_loss: 0.3235 - val_acc: 0.8760\n",
            "Epoch 10/30\n",
            "100/100 - 19s - loss: 0.2409 - acc: 0.9087 - val_loss: 0.3157 - val_acc: 0.8820\n",
            "Epoch 11/30\n",
            "100/100 - 19s - loss: 0.2182 - acc: 0.9223 - val_loss: 0.3683 - val_acc: 0.8590\n",
            "Epoch 12/30\n",
            "100/100 - 20s - loss: 0.2104 - acc: 0.9181 - val_loss: 0.3395 - val_acc: 0.8730\n",
            "Epoch 13/30\n",
            "100/100 - 19s - loss: 0.1957 - acc: 0.9321 - val_loss: 0.3527 - val_acc: 0.8580\n",
            "Epoch 14/30\n",
            "100/100 - 19s - loss: 0.1969 - acc: 0.9322 - val_loss: 0.3275 - val_acc: 0.8810\n",
            "Epoch 15/30\n",
            "100/100 - 19s - loss: 0.1844 - acc: 0.9301 - val_loss: 0.3529 - val_acc: 0.8580\n",
            "Epoch 16/30\n",
            "100/100 - 21s - loss: 0.1808 - acc: 0.9353 - val_loss: 0.3509 - val_acc: 0.8590\n",
            "Epoch 17/30\n",
            "100/100 - 19s - loss: 0.1689 - acc: 0.9461 - val_loss: 0.3425 - val_acc: 0.8700\n",
            "Epoch 18/30\n",
            "100/100 - 19s - loss: 0.1662 - acc: 0.9435 - val_loss: 0.3343 - val_acc: 0.8740\n",
            "Epoch 19/30\n",
            "100/100 - 20s - loss: 0.1633 - acc: 0.9389 - val_loss: 0.3254 - val_acc: 0.8820\n",
            "Epoch 20/30\n",
            "100/100 - 19s - loss: 0.1459 - acc: 0.9560 - val_loss: 0.3482 - val_acc: 0.8850\n",
            "Epoch 21/30\n",
            "100/100 - 19s - loss: 0.1419 - acc: 0.9546 - val_loss: 0.3588 - val_acc: 0.8730\n",
            "Epoch 22/30\n",
            "100/100 - 19s - loss: 0.1293 - acc: 0.9585 - val_loss: 0.3715 - val_acc: 0.8650\n",
            "Epoch 23/30\n",
            "100/100 - 20s - loss: 0.1349 - acc: 0.9554 - val_loss: 0.3764 - val_acc: 0.8670\n",
            "Epoch 24/30\n",
            "100/100 - 19s - loss: 0.1298 - acc: 0.9658 - val_loss: 0.3395 - val_acc: 0.8740\n",
            "Epoch 25/30\n",
            "100/100 - 19s - loss: 0.1156 - acc: 0.9663 - val_loss: 0.3597 - val_acc: 0.8770\n",
            "Epoch 26/30\n",
            "100/100 - 19s - loss: 0.1260 - acc: 0.9556 - val_loss: 0.3550 - val_acc: 0.8830\n",
            "Epoch 27/30\n",
            "100/100 - 21s - loss: 0.1204 - acc: 0.9622 - val_loss: 0.3549 - val_acc: 0.8810\n",
            "Epoch 28/30\n",
            "100/100 - 19s - loss: 0.1214 - acc: 0.9671 - val_loss: 0.3486 - val_acc: 0.8780\n",
            "Epoch 29/30\n",
            "100/100 - 19s - loss: 0.1054 - acc: 0.9717 - val_loss: 0.3791 - val_acc: 0.8700\n",
            "Epoch 30/30\n",
            "100/100 - 19s - loss: 0.1016 - acc: 0.9708 - val_loss: 0.3672 - val_acc: 0.8780\n"
          ],
          "name": "stdout"
        }
      ]
    },
    {
      "cell_type": "code",
      "metadata": {
        "id": "GBheJix0EpOv",
        "colab_type": "code",
        "outputId": "423d3781-d809-45dc-b47d-b94c66f23f61",
        "colab": {
          "base_uri": "https://localhost:8080/",
          "height": 545
        }
      },
      "source": [
        "acc = history.history['acc']\n",
        "val_acc = history.history['val_acc']\n",
        "loss = history.history['loss']\n",
        "val_loss = history.history['val_loss']\n",
        "\n",
        "epochs = range(len(acc))\n",
        "\n",
        "plt.plot(epochs, acc, 'bo', label='Training acc')\n",
        "plt.plot(epochs, val_acc, 'b', label='Validation acc')\n",
        "plt.title('Training and validation accuracy')\n",
        "plt.legend()\n",
        "\n",
        "plt.figure()\n",
        "\n",
        "plt.plot(epochs, loss, 'bo', label='Training loss')\n",
        "plt.plot(epochs, val_loss, 'b', label='Validation loss')\n",
        "plt.title('Training and validation loss')\n",
        "plt.legend()\n",
        "\n",
        "plt.show()"
      ],
      "execution_count": 0,
      "outputs": [
        {
          "output_type": "display_data",
          "data": {
            "image/png": "[encoded data removed]",
            "text/plain": [
              "<Figure size 432x288 with 1 Axes>"
            ]
          },
          "metadata": {
            "tags": []
          }
        },
        {
          "output_type": "display_data",
          "data": {
            "image/png": "[encoded data removed]",
            "text/plain": [
              "<Figure size 432x288 with 1 Axes>"
            ]
          },
          "metadata": {
            "tags": []
          }
        }
      ]
    },
    {
      "cell_type": "code",
      "metadata": {
        "id": "oU2ZPnb5Erff",
        "colab_type": "code",
        "colab": {}
      },
      "source": [
        "model.save('cats_and_dogs_small_by_VGG.h5')"
      ],
      "execution_count": 0,
      "outputs": []
    },
    {
      "cell_type": "code",
      "metadata": {
        "id": "fT9CrkTUEsmy",
        "colab_type": "code",
        "colab": {}
      },
      "source": [
        ""
      ],
      "execution_count": 0,
      "outputs": []
    }
  ]
}