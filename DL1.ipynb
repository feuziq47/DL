{
  "nbformat": 4,
  "nbformat_minor": 0,
  "metadata": {
    "colab": {
      "name": "DL1.ipynb",
      "version": "0.3.2",
      "provenance": [],
      "include_colab_link": true
    },
    "kernelspec": {
      "name": "python3",
      "display_name": "Python 3"
    }
  },
  "cells": [
    {
      "cell_type": "markdown",
      "metadata": {
        "id": "view-in-github",
        "colab_type": "text"
      },
      "source": [
        "<a href=\"https://colab.research.google.com/github/feuziq47/DL/blob/master/DL1.ipynb\" target=\"_parent\"><img src=\"https://colab.research.google.com/assets/colab-badge.svg\" alt=\"Open In Colab\"/></a>"
      ]
    },
    {
      "cell_type": "code",
      "metadata": {
        "id": "-nYsI_bJz9rt",
        "colab_type": "code",
        "colab": {}
      },
      "source": [
        "#perceptron AND gate구현\n",
        "\n",
        "import numpy as np\n",
        "def AND(x1,x2):\n",
        "  x=np.array([x1,x2])\n",
        "  w=np.array([0.5,0.5])\n",
        "  b=-0.7\n",
        "  tmp=np.sum(w*x)+b\n",
        "  \n",
        "  if tmp<=0:\n",
        "    return 0\n",
        "  else:\n",
        "    return 1"
      ],
      "execution_count": 0,
      "outputs": []
    },
    {
      "cell_type": "code",
      "metadata": {
        "id": "5aY-Im4ZYlGC",
        "colab_type": "code",
        "outputId": "128d93f3-9ba8-4334-aff2-f8989c18748a",
        "colab": {
          "base_uri": "https://localhost:8080/",
          "height": 84
        }
      },
      "source": [
        "print(AND(0,0))\n",
        "print(AND(0,1))\n",
        "print(AND(1,0))\n",
        "print(AND(1,1))"
      ],
      "execution_count": 0,
      "outputs": [
        {
          "output_type": "stream",
          "text": [
            "0\n",
            "0\n",
            "0\n",
            "1\n"
          ],
          "name": "stdout"
        }
      ]
    },
    {
      "cell_type": "code",
      "metadata": {
        "id": "VYnUWLuYYrJg",
        "colab_type": "code",
        "colab": {}
      },
      "source": [
        "#perceptron OR gate구현\n",
        "\n",
        "import numpy as np\n",
        "def OR(x1,x2):\n",
        "  x=np.array([x1,x2])\n",
        "  w=np.array([0.5,0.5])\n",
        "  b=-0.2\n",
        "  tmp=np.sum(w*x)+b\n",
        "  \n",
        "  if tmp<=0:\n",
        "    return 0\n",
        "  else:\n",
        "    return 1"
      ],
      "execution_count": 0,
      "outputs": []
    },
    {
      "cell_type": "code",
      "metadata": {
        "id": "VYWxd-ypZosL",
        "colab_type": "code",
        "outputId": "7c37fa45-0dcd-4210-be11-45fac251fde3",
        "colab": {
          "base_uri": "https://localhost:8080/",
          "height": 84
        }
      },
      "source": [
        "print(OR(0,0))\n",
        "print(OR(0,1))\n",
        "print(OR(1,0))\n",
        "print(OR(1,1))"
      ],
      "execution_count": 0,
      "outputs": [
        {
          "output_type": "stream",
          "text": [
            "0\n",
            "1\n",
            "1\n",
            "1\n"
          ],
          "name": "stdout"
        }
      ]
    },
    {
      "cell_type": "code",
      "metadata": {
        "id": "1P9mjiblaKJ2",
        "colab_type": "code",
        "colab": {}
      },
      "source": [
        "#perceptron NAND gate구현\n",
        "\n",
        "import numpy as np\n",
        "def NAND(x1,x2):\n",
        "  x=np.array([x1,x2])\n",
        "  w=np.array([-0.5,-0.5])\n",
        "  b=0.7\n",
        "  tmp=np.sum(w*x)+b\n",
        "  \n",
        "  if tmp<=0:\n",
        "    return 0\n",
        "  else:\n",
        "    return 1"
      ],
      "execution_count": 0,
      "outputs": []
    },
    {
      "cell_type": "code",
      "metadata": {
        "id": "8Hjv4_Fhactb",
        "colab_type": "code",
        "outputId": "3c74539d-a802-46a5-cc6c-4a444cebdf68",
        "colab": {
          "base_uri": "https://localhost:8080/",
          "height": 84
        }
      },
      "source": [
        "print(NAND(0,0))\n",
        "print(NAND(0,1))\n",
        "print(NAND(1,0))\n",
        "print(NAND(1,1))"
      ],
      "execution_count": 0,
      "outputs": [
        {
          "output_type": "stream",
          "text": [
            "1\n",
            "1\n",
            "1\n",
            "0\n"
          ],
          "name": "stdout"
        }
      ]
    },
    {
      "cell_type": "code",
      "metadata": {
        "id": "iOVP8sh7akv9",
        "colab_type": "code",
        "colab": {}
      },
      "source": [
        "#다층 perceptron을 이용한 XOR gate 구현\n",
        "def XOR(x1,x2):\n",
        "  s1=NAND(x1,x2)\n",
        "  s2=OR(x1,x2)\n",
        "  y=AND(s1,s2)\n",
        "  return y"
      ],
      "execution_count": 0,
      "outputs": []
    },
    {
      "cell_type": "code",
      "metadata": {
        "id": "QDmjUSNKbyCz",
        "colab_type": "code",
        "outputId": "86f380fb-9e08-49f9-8d7f-3c61e803c69b",
        "colab": {
          "base_uri": "https://localhost:8080/",
          "height": 84
        }
      },
      "source": [
        "print(XOR(0,0))\n",
        "print(XOR(0,1))\n",
        "print(XOR(1,0))\n",
        "print(XOR(1,1))"
      ],
      "execution_count": 0,
      "outputs": [
        {
          "output_type": "stream",
          "text": [
            "0\n",
            "1\n",
            "1\n",
            "0\n"
          ],
          "name": "stdout"
        }
      ]
    },
    {
      "cell_type": "code",
      "metadata": {
        "id": "QqnV-U1-cW0k",
        "colab_type": "code",
        "outputId": "1f74c100-3340-413e-d268-1643a324b525",
        "colab": {
          "base_uri": "https://localhost:8080/",
          "height": 269
        }
      },
      "source": [
        "#Step Function 구현 및 시각화\n",
        "import numpy as np\n",
        "import matplotlib.pylab as plt\n",
        "\n",
        "def step_function(x):\n",
        "  return np.array(x>0,dtype=np.int)\n",
        "\n",
        "X=np.arange(-5.0,5.0,0.1)\n",
        "Y=step_function(X)\n",
        "plt.plot(X,Y)\n",
        "plt.ylim(-0.1,1.1)\n",
        "plt.show()"
      ],
      "execution_count": 0,
      "outputs": [
        {
          "output_type": "display_data",
          "data": {
            "image/png": "[encoded data removed]",
            "text/plain": [
              "<Figure size 432x288 with 1 Axes>"
            ]
          },
          "metadata": {
            "tags": []
          }
        }
      ]
    },
    {
      "cell_type": "code",
      "metadata": {
        "id": "sePJ5eeHe8yk",
        "colab_type": "code",
        "outputId": "ad1b06ff-40f9-41a5-cbdd-6698f5e9402d",
        "colab": {
          "base_uri": "https://localhost:8080/",
          "height": 269
        }
      },
      "source": [
        "#Sigmoid Function 구현 및 시각화\n",
        "import numpy as np\n",
        "import matplotlib.pylab as plt\n",
        "\n",
        "def sigmoid(x):\n",
        "  return 1/(1+np.exp(-x))\n",
        "X=np.arange(-5.0,5.0,0.1)\n",
        "Y=sigmoid_function(X)\n",
        "plt.plot(X,Y)\n",
        "plt.ylim(-0.1,1.1)\n",
        "plt.show()"
      ],
      "execution_count": 0,
      "outputs": [
        {
          "output_type": "display_data",
          "data": {
            "image/png": "[encoded data removed]",
            "text/plain": [
              "<Figure size 432x288 with 1 Axes>"
            ]
          },
          "metadata": {
            "tags": []
          }
        }
      ]
    },
    {
      "cell_type": "code",
      "metadata": {
        "id": "TKoEcGIifckq",
        "colab_type": "code",
        "outputId": "1fe0dc4c-c89d-4233-ddd2-a3457dacdc75",
        "colab": {
          "base_uri": "https://localhost:8080/",
          "height": 269
        }
      },
      "source": [
        "#Relu Function 구현 및 시각화\n",
        "import numpy as np\n",
        "import matplotlib.pylab as plt\n",
        "\n",
        "def relu(x):\n",
        "  return np.maximum(0,x)\n",
        "X=np.arange(-5.0,5.0,0.1)\n",
        "Y=relu(X)\n",
        "plt.plot(X,Y)\n",
        "plt.ylim(-0.1,1.1)\n",
        "plt.show()"
      ],
      "execution_count": 0,
      "outputs": [
        {
          "output_type": "display_data",
          "data": {
            "image/png": "[encoded data removed]",
            "text/plain": [
              "<Figure size 432x288 with 1 Axes>"
            ]
          },
          "metadata": {
            "tags": []
          }
        }
      ]
    },
    {
      "cell_type": "code",
      "metadata": {
        "id": "rY0kARQLgqAP",
        "colab_type": "code",
        "outputId": "a4ed34da-51ad-4076-8428-6d4f074ec509",
        "colab": {
          "base_uri": "https://localhost:8080/",
          "height": 67
        }
      },
      "source": [
        "# 1st Layer1\n",
        "X=np.array([1.0,0.5])\n",
        "W1=np.array([[0.1,0.3,0.5],[0.2,0.4,0.6]])\n",
        "B1=np.array([0.1,0.2,0.3])\n",
        "\n",
        "print(X.shape)\n",
        "print(W1.shape)\n",
        "print(B1.shape)\n",
        "\n",
        "A1=np.dot(X,W1)+B1"
      ],
      "execution_count": 0,
      "outputs": [
        {
          "output_type": "stream",
          "text": [
            "(2,)\n",
            "(2, 3)\n",
            "(3,)\n"
          ],
          "name": "stdout"
        }
      ]
    },
    {
      "cell_type": "code",
      "metadata": {
        "id": "eae6TgxwpOes",
        "colab_type": "code",
        "outputId": "ab65be94-50df-469a-9773-5ad953e19f4d",
        "colab": {
          "base_uri": "https://localhost:8080/",
          "height": 84
        }
      },
      "source": [
        "# 1st Layer2\n",
        "Z1=sigmoid(A1)\n",
        "print(A1)\n",
        "print(Z1)\n",
        "R1=relu(A1)\n",
        "print(R1)\n",
        "S1=step_function(A1)\n",
        "print(S1)"
      ],
      "execution_count": 0,
      "outputs": [
        {
          "output_type": "stream",
          "text": [
            "[0.3 0.7 1.1]\n",
            "[0.57444252 0.66818777 0.75026011]\n",
            "[0.3 0.7 1.1]\n",
            "[1 1 1]\n"
          ],
          "name": "stdout"
        }
      ]
    },
    {
      "cell_type": "code",
      "metadata": {
        "id": "HN6IhVzUqdWB",
        "colab_type": "code",
        "outputId": "d8a079aa-80b7-41c3-8b4d-8c789127a323",
        "colab": {
          "base_uri": "https://localhost:8080/",
          "height": 118
        }
      },
      "source": [
        "# 2nd Layer\n",
        "W2=np.array([[0.1,0.4],[0.2,0.5],[0.3,0.6]])\n",
        "B2=np.array([0.1,0.2])\n",
        "print(Z1.shape)\n",
        "print(W2.shape)\n",
        "print(B2.shape)\n",
        "\n",
        "A2=np.dot(Z1,W2)+B2\n",
        "Z2=sigmoid(A2)\n",
        "print(A2)\n",
        "print(Z2)\n",
        "Z2=relu(A2)\n",
        "print(Z2)"
      ],
      "execution_count": 0,
      "outputs": [
        {
          "output_type": "stream",
          "text": [
            "(3,)\n",
            "(3, 2)\n",
            "(2,)\n",
            "[0.51615984 1.21402696]\n",
            "[0.62624937 0.7710107 ]\n",
            "[0.51615984 1.21402696]\n"
          ],
          "name": "stdout"
        }
      ]
    },
    {
      "cell_type": "code",
      "metadata": {
        "id": "IfXVpXESsGbP",
        "colab_type": "code",
        "outputId": "ba36ac0b-80f8-469c-e729-b38b0c9ce094",
        "colab": {
          "base_uri": "https://localhost:8080/",
          "height": 34
        }
      },
      "source": [
        "# Output_Layer\n",
        "def identity_function(x):\n",
        "  return x\n",
        "W3=np.array([[0.1,0.3],[0.2,0.4]])\n",
        "B3=np.array([0.1,0.2])\n",
        "A3=np.dot(Z2,W3)+B3\n",
        "Y=identity_function(A3)\n",
        "print(Y)"
      ],
      "execution_count": 0,
      "outputs": [
        {
          "output_type": "stream",
          "text": [
            "[0.39442138 0.84045873]\n"
          ],
          "name": "stdout"
        }
      ]
    },
    {
      "cell_type": "code",
      "metadata": {
        "id": "rrAUZZm3vLHc",
        "colab_type": "code",
        "colab": {}
      },
      "source": [
        "# Neural Network1(Definition)\n",
        "def init_network():\n",
        "  network={}\n",
        "  network['W1']=np.array([[0.1,0.3,0.5],[0.2,0.4,0.6]])\n",
        "  network['b1']=np.array([0.1,0.2,0.3])\n",
        "  network['W2']=np.array([[0.1,0.4],[0.2,0.5],[0.3,0.6]])\n",
        "  network['b2']=np.array([0.1,0.2])\n",
        "  network['W3']=np.array([[0.1,0.3],[0.2,0.4]])\n",
        "  network['b3']=np.array([[0.1,0.2]])\n",
        "  \n",
        "  return network\n",
        "\n",
        "def forward(network,x):\n",
        "  W1,W2,W3=network['W1'],network['W2'],network['W3']\n",
        "  b1,b2,b3=network['b1'],network['b2'],network['b3']\n",
        "  \n",
        "  a1=np.dot(x,W1)+b1\n",
        "  z1=sigmoid(a1)\n",
        "  a2=np.dot(z1,W2)+b2\n",
        "  z2=sigmoid(a2)\n",
        "  a3=np.dot(z2,W3)+b3\n",
        "  y=identity_function(a3)\n",
        "  \n",
        "  return y"
      ],
      "execution_count": 0,
      "outputs": []
    },
    {
      "cell_type": "code",
      "metadata": {
        "id": "pvPhXSZwySBI",
        "colab_type": "code",
        "outputId": "776d9101-27ed-4fd4-a74c-5cc29cab16c5",
        "colab": {
          "base_uri": "https://localhost:8080/",
          "height": 34
        }
      },
      "source": [
        "# Neural Network2(Execution)\n",
        "network=init_network()\n",
        "x=np.array([1.0,0.5])\n",
        "y=forward(network,x)\n",
        "print(y)"
      ],
      "execution_count": 0,
      "outputs": [
        {
          "output_type": "stream",
          "text": [
            "[[0.31682708 0.69627909]]\n"
          ],
          "name": "stdout"
        }
      ]
    },
    {
      "cell_type": "code",
      "metadata": {
        "id": "gpe2rp16zgpV",
        "colab_type": "code",
        "colab": {}
      },
      "source": [
        ""
      ],
      "execution_count": 0,
      "outputs": []
    }
  ]
}