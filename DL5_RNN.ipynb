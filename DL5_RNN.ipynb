{
  "nbformat": 4,
  "nbformat_minor": 0,
  "metadata": {
    "colab": {
      "name": "wk5_d5_RNN.ipynb의 사본",
      "version": "0.3.2",
      "provenance": [],
      "collapsed_sections": [],
      "include_colab_link": true
    },
    "kernelspec": {
      "name": "python3",
      "display_name": "Python 3"
    },
    "accelerator": "GPU"
  },
  "cells": [
    {
      "cell_type": "markdown",
      "metadata": {
        "id": "view-in-github",
        "colab_type": "text"
      },
      "source": [
        "<a href=\"https://colab.research.google.com/github/feuziq47/DL/blob/master/DL5_RNN.ipynb\" target=\"_parent\"><img src=\"https://colab.research.google.com/assets/colab-badge.svg\" alt=\"Open In Colab\"/></a>"
      ]
    },
    {
      "cell_type": "code",
      "metadata": {
        "id": "G_X90sU39lBt",
        "colab_type": "code",
        "colab": {}
      },
      "source": [
        "##2019 07 26 금요일 < RNN을 이용한 IMDB 데이터 셋 넥스트 분류 모델 구현 >"
      ],
      "execution_count": 0,
      "outputs": []
    },
    {
      "cell_type": "code",
      "metadata": {
        "id": "mwGRs4vj9xTv",
        "colab_type": "code",
        "outputId": "010b5a6f-8f3d-43e3-8bf1-04e42cf80127",
        "colab": {
          "base_uri": "https://localhost:8080/",
          "height": 34
        }
      },
      "source": [
        "from google.colab import drive\n",
        "drive.mount('/content/drive')"
      ],
      "execution_count": 0,
      "outputs": [
        {
          "output_type": "stream",
          "text": [
            "Drive already mounted at /content/drive; to attempt to forcibly remount, call drive.mount(\"/content/drive\", force_remount=True).\n"
          ],
          "name": "stdout"
        }
      ]
    },
    {
      "cell_type": "code",
      "metadata": {
        "id": "S_PyNsbN9x01",
        "colab_type": "code",
        "outputId": "b4b52c8d-36b4-4c95-a775-271a894ba0f7",
        "colab": {
          "base_uri": "https://localhost:8080/",
          "height": 107
        }
      },
      "source": [
        "from tensorflow.keras.datasets import imdb\n",
        "from tensorflow.keras.preprocessing import sequence\n",
        "\n",
        "max_features = 10000\n",
        "maxlen = 500\n",
        "batch_size = 32\n",
        "\n",
        "print('데이터 로딩 ... ')\n",
        "(input_train, y_train),(input_test, y_test) = imdb.load_data(num_words = max_features)\n",
        "print(len(input_train),'훈련 시퀀스')\n",
        "print(len(input_test),'테스트 시퀀스')\n",
        "\n",
        "# word_index는 단어와 정수 인덱스를 매핑한 딕셔너리입니다\n",
        "word_index = imdb.get_word_index()\n",
        "# 정수 인덱스와 단어를 매핑하도록 뒤집습니다\n",
        "reverse_word_index = dict([(value, key) for (key, value) in word_index.items()])\n",
        "# 리뷰를 디코딩합니다. \n",
        "# 0, 1, 2는 '패딩', '문서 시작', '사전에 없음'을 위한 인덱스이므로 3을 뺍니다\n",
        "decoded_review = ' '.join([reverse_word_index.get(i - 3, '?') for i in input_train[0]])\n",
        "print(decoded_review)"
      ],
      "execution_count": 0,
      "outputs": [
        {
          "output_type": "stream",
          "text": [
            "데이터 로딩 ... \n",
            "25000 훈련 시퀀스\n",
            "25000 테스트 시퀀스\n",
            "? this film was just brilliant casting location scenery story direction everyone's really suited the part they played and you could just imagine being there robert ? is an amazing actor and now the same being director ? father came from the same scottish island as myself so i loved the fact there was a real connection with this film the witty remarks throughout the film were great it was just brilliant so much that i bought the film as soon as it was released for ? and would recommend it to everyone to watch and the fly fishing was amazing really cried at the end it was so sad and you know what they say if you cry at a film it must have been good and this definitely was also ? to the two little boy's that played the ? of norman and paul they were just brilliant children are often left out of the ? list i think because the stars that play them all grown up are such a big profile for the whole film but these children are amazing and should be praised for what they have done don't you think the whole story was so lovely because it was true and was someone's life after all that was shared with us all\n"
          ],
          "name": "stdout"
        }
      ]
    },
    {
      "cell_type": "code",
      "metadata": {
        "id": "3WlT2Rhr-wYl",
        "colab_type": "code",
        "outputId": "25a887af-c664-42de-ad15-57ec36a7f6a5",
        "colab": {
          "base_uri": "https://localhost:8080/",
          "height": 70
        }
      },
      "source": [
        "print(\"시퀀스 패딩 (samples * time)\")\n",
        "input_train = sequence.pad_sequences(input_train,maxlen=maxlen)\n",
        "input_test = sequence.pad_sequences(input_test,maxlen=maxlen)\n",
        "print('input_train 크기: ', input_train.shape)\n",
        "print('input_test 크기: ', input_test.shape)\n"
      ],
      "execution_count": 0,
      "outputs": [
        {
          "output_type": "stream",
          "text": [
            "시퀀스 패딩 (samples * time)\n",
            "input_train 크기:  (25000, 500)\n",
            "input_test 크기:  (25000, 500)\n"
          ],
          "name": "stdout"
        }
      ]
    },
    {
      "cell_type": "code",
      "metadata": {
        "id": "mZOfBT5w_vB2",
        "colab_type": "code",
        "colab": {}
      },
      "source": [
        "from tensorflow.keras.models import Sequential\n",
        "from tensorflow.keras.layers import SimpleRNN, Embedding\n",
        "from tensorflow.keras.layers import Dense"
      ],
      "execution_count": 0,
      "outputs": []
    },
    {
      "cell_type": "code",
      "metadata": {
        "id": "kylYb9sJAeEM",
        "colab_type": "code",
        "colab": {}
      },
      "source": [
        "model = Sequential()"
      ],
      "execution_count": 0,
      "outputs": []
    },
    {
      "cell_type": "code",
      "metadata": {
        "id": "2DeR177TBaJd",
        "colab_type": "code",
        "outputId": "6b9699e6-de24-4bfd-97d9-f149e838c99d",
        "colab": {
          "base_uri": "https://localhost:8080/",
          "height": 406
        }
      },
      "source": [
        "model.add(Embedding(input_dim=10000,output_dim=32))\n",
        "model.add(SimpleRNN(units=32))\n",
        "model.add(Dense(1,activation ='sigmoid'))\n",
        "model.summary()"
      ],
      "execution_count": 0,
      "outputs": [
        {
          "output_type": "stream",
          "text": [
            "WARNING: Logging before flag parsing goes to stderr.\n",
            "W0726 02:05:09.089939 140061918820224 deprecation.py:506] From /usr/local/lib/python3.6/dist-packages/tensorflow/python/keras/initializers.py:119: calling RandomUniform.__init__ (from tensorflow.python.ops.init_ops) with dtype is deprecated and will be removed in a future version.\n",
            "Instructions for updating:\n",
            "Call initializer instance with the dtype argument instead of passing it to the constructor\n",
            "W0726 02:05:09.138123 140061918820224 deprecation.py:506] From /usr/local/lib/python3.6/dist-packages/tensorflow/python/ops/init_ops.py:1251: calling VarianceScaling.__init__ (from tensorflow.python.ops.init_ops) with dtype is deprecated and will be removed in a future version.\n",
            "Instructions for updating:\n",
            "Call initializer instance with the dtype argument instead of passing it to the constructor\n"
          ],
          "name": "stderr"
        },
        {
          "output_type": "stream",
          "text": [
            "Model: \"sequential\"\n",
            "_________________________________________________________________\n",
            "Layer (type)                 Output Shape              Param #   \n",
            "=================================================================\n",
            "embedding (Embedding)        (None, None, 32)          320000    \n",
            "_________________________________________________________________\n",
            "simple_rnn (SimpleRNN)       (None, 32)                2080      \n",
            "_________________________________________________________________\n",
            "dense (Dense)                (None, 1)                 33        \n",
            "=================================================================\n",
            "Total params: 322,113\n",
            "Trainable params: 322,113\n",
            "Non-trainable params: 0\n",
            "_________________________________________________________________\n"
          ],
          "name": "stdout"
        }
      ]
    },
    {
      "cell_type": "code",
      "metadata": {
        "id": "uCz6_b57Bllb",
        "colab_type": "code",
        "outputId": "4f19bcec-fa77-4d99-d4d0-30bc30f11fc3",
        "colab": {
          "base_uri": "https://localhost:8080/",
          "height": 459
        }
      },
      "source": [
        "model.compile(optimizer='rmsprop',loss='binary_crossentropy',metrics=['acc'])\n",
        "history = model.fit(x=input_train,y=y_train,epochs=10,batch_size=128,validation_split=0.2)\n"
      ],
      "execution_count": 0,
      "outputs": [
        {
          "output_type": "stream",
          "text": [
            "W0726 02:06:39.336424 140061918820224 deprecation.py:323] From /usr/local/lib/python3.6/dist-packages/tensorflow/python/ops/nn_impl.py:180: add_dispatch_support.<locals>.wrapper (from tensorflow.python.ops.array_ops) is deprecated and will be removed in a future version.\n",
            "Instructions for updating:\n",
            "Use tf.where in 2.0, which has the same broadcast rule as np.where\n"
          ],
          "name": "stderr"
        },
        {
          "output_type": "stream",
          "text": [
            "Train on 20000 samples, validate on 5000 samples\n",
            "Epoch 1/10\n",
            "20000/20000 [==============================] - 19s 969us/sample - loss: 0.6259 - acc: 0.6385 - val_loss: 0.4511 - val_acc: 0.8028\n",
            "Epoch 2/10\n",
            "20000/20000 [==============================] - 19s 962us/sample - loss: 0.3924 - acc: 0.8335 - val_loss: 0.4531 - val_acc: 0.7922\n",
            "Epoch 3/10\n",
            "20000/20000 [==============================] - 19s 959us/sample - loss: 0.2914 - acc: 0.8834 - val_loss: 0.3490 - val_acc: 0.8622\n",
            "Epoch 4/10\n",
            "20000/20000 [==============================] - 19s 969us/sample - loss: 0.2280 - acc: 0.9130 - val_loss: 0.4345 - val_acc: 0.8186\n",
            "Epoch 5/10\n",
            "20000/20000 [==============================] - 19s 970us/sample - loss: 0.1741 - acc: 0.9359 - val_loss: 0.3856 - val_acc: 0.8542\n",
            "Epoch 6/10\n",
            "20000/20000 [==============================] - 19s 958us/sample - loss: 0.1259 - acc: 0.9551 - val_loss: 0.4770 - val_acc: 0.8076\n",
            "Epoch 7/10\n",
            "20000/20000 [==============================] - 19s 967us/sample - loss: 0.0787 - acc: 0.9743 - val_loss: 0.4828 - val_acc: 0.8282\n",
            "Epoch 8/10\n",
            "20000/20000 [==============================] - 19s 966us/sample - loss: 0.0536 - acc: 0.9833 - val_loss: 0.5506 - val_acc: 0.8488\n",
            "Epoch 9/10\n",
            "20000/20000 [==============================] - 19s 965us/sample - loss: 0.0349 - acc: 0.9904 - val_loss: 0.5936 - val_acc: 0.8256\n",
            "Epoch 10/10\n",
            "20000/20000 [==============================] - 19s 967us/sample - loss: 0.0224 - acc: 0.9940 - val_loss: 0.6168 - val_acc: 0.8276\n"
          ],
          "name": "stdout"
        }
      ]
    },
    {
      "cell_type": "code",
      "metadata": {
        "id": "tcQrVCiLB7lz",
        "colab_type": "code",
        "outputId": "7f92d9d5-22a0-4534-b32b-92c3ff14b6bb",
        "colab": {
          "base_uri": "https://localhost:8080/",
          "height": 281
        }
      },
      "source": [
        "#학습 과정 성능 지표의 시각화\n",
        "##시각화를 위해 matplot 라이브러리 임포트\n",
        "import matplotlib.pyplot as plt\n",
        "\n",
        "#모델 학습 과정의 성능지표가 저장된 history 객체에서 시각화 하고자 하는 정보를 추출\n",
        "acc = history.history['acc']\n",
        "val_acc = history.history['val_acc']\n",
        "loss = history.history['loss']\n",
        "val_loss = history.history['val_loss']\n",
        "\n",
        "epochs = range(1,len(acc)+1)\n",
        "\n",
        "#추출된 accuracy/ 검증 accu 정보를 plot 객체에 할당\n",
        "plt.plot(epochs, acc, 'bo',label='Training acc')\n",
        "plt.plot(epochs, val_acc, 'b',label='Validation acc')\n",
        "plt.title('Training and validation accuracy')\n",
        "plt.legend()\n",
        "\n",
        "plt.show()"
      ],
      "execution_count": 0,
      "outputs": [
        {
          "output_type": "display_data",
          "data": {
            "image/png": "[encoded data removed]",
            "text/plain": [
              "<Figure size 432x288 with 1 Axes>"
            ]
          },
          "metadata": {
            "tags": []
          }
        }
      ]
    },
    {
      "cell_type": "code",
      "metadata": {
        "id": "qRVL43hLCUNA",
        "colab_type": "code",
        "outputId": "abf75095-9a02-4115-d36a-38bd389ecf6b",
        "colab": {
          "base_uri": "https://localhost:8080/",
          "height": 281
        }
      },
      "source": [
        "#추출된 loss/ 검증 loss 정보를 plot 객체에 할당후 차트 렌더링 수행\n",
        "plt.plot(epochs, loss, 'bo',label='Training loss')\n",
        "plt.plot(epochs, val_loss, 'b',label='Validation loss')\n",
        "plt.title('Training and validation loss')\n",
        "plt.legend()\n",
        "\n",
        "plt.show()"
      ],
      "execution_count": 0,
      "outputs": [
        {
          "output_type": "display_data",
          "data": {
            "image/png": "[encoded data removed]",
            "text/plain": [
              "<Figure size 432x288 with 1 Axes>"
            ]
          },
          "metadata": {
            "tags": []
          }
        }
      ]
    },
    {
      "cell_type": "code",
      "metadata": {
        "id": "q7CeKDwbDaKV",
        "colab_type": "code",
        "outputId": "f3397132-0912-4426-f4cc-a4c1e8a9e6e3",
        "colab": {
          "base_uri": "https://localhost:8080/",
          "height": 105
        }
      },
      "source": [
        "##LSTM 을 이용한 감정분석\n",
        "from tensorflow.keras.datasets import imdb\n",
        "from tensorflow.keras.preprocessing import sequence\n",
        "\n",
        "max_features = 10000\n",
        "maxlen = 500\n",
        "batch_size = 32\n",
        "\n",
        "print('데이터 로딩 ... ')\n",
        "(input_train, y_train),(input_test, y_test) = imdb.load_data(num_words = max_features)\n",
        "print(len(input_train),'훈련 시퀀스')\n",
        "print(len(input_test),'테스트 시퀀스')"
      ],
      "execution_count": 0,
      "outputs": [
        {
          "output_type": "stream",
          "text": [
            "데이터 로딩 ... \n",
            "Downloading data from https://storage.googleapis.com/tensorflow/tf-keras-datasets/imdb.npz\n",
            "17465344/17464789 [==============================] - 0s 0us/step\n",
            "25000 훈련 시퀀스\n",
            "25000 테스트 시퀀스\n"
          ],
          "name": "stdout"
        }
      ]
    },
    {
      "cell_type": "code",
      "metadata": {
        "id": "5Ruyc2p7Fa1O",
        "colab_type": "code",
        "outputId": "47fbef41-375c-4072-e4db-96555f25996e",
        "colab": {
          "base_uri": "https://localhost:8080/",
          "height": 70
        }
      },
      "source": [
        "print(\"시퀀스 패딩 (samples * time)\")\n",
        "input_train = sequence.pad_sequences(input_train,maxlen=maxlen)\n",
        "input_test = sequence.pad_sequences(input_test,maxlen=maxlen)\n",
        "print('input_train 크기: ', input_train.shape)\n",
        "print('input_test 크기: ', input_test.shape)"
      ],
      "execution_count": 0,
      "outputs": [
        {
          "output_type": "stream",
          "text": [
            "시퀀스 패딩 (samples * time)\n",
            "input_train 크기:  (25000, 500)\n",
            "input_test 크기:  (25000, 500)\n"
          ],
          "name": "stdout"
        }
      ]
    },
    {
      "cell_type": "code",
      "metadata": {
        "id": "Fi6abTbrFfq5",
        "colab_type": "code",
        "outputId": "fa528cda-8966-41e3-8feb-98906226a07b",
        "colab": {
          "base_uri": "https://localhost:8080/",
          "height": 406
        }
      },
      "source": [
        "from tensorflow.keras.models import Sequential\n",
        "from tensorflow.keras.layers import LSTM, Embedding\n",
        "from tensorflow.keras.layers import Dense\n",
        "lstm = Sequential()\n",
        "lstm.add(Embedding(input_dim=10000,output_dim=32))\n",
        "lstm.add(LSTM(units=32))\n",
        "lstm.add(Dense(1,activation ='sigmoid'))\n",
        "lstm.summary()"
      ],
      "execution_count": 0,
      "outputs": [
        {
          "output_type": "stream",
          "text": [
            "WARNING: Logging before flag parsing goes to stderr.\n",
            "W0726 02:29:09.310496 139953744705408 deprecation.py:506] From /usr/local/lib/python3.6/dist-packages/tensorflow/python/keras/initializers.py:119: calling RandomUniform.__init__ (from tensorflow.python.ops.init_ops) with dtype is deprecated and will be removed in a future version.\n",
            "Instructions for updating:\n",
            "Call initializer instance with the dtype argument instead of passing it to the constructor\n",
            "W0726 02:29:09.337883 139953744705408 deprecation.py:506] From /usr/local/lib/python3.6/dist-packages/tensorflow/python/ops/init_ops.py:1251: calling VarianceScaling.__init__ (from tensorflow.python.ops.init_ops) with dtype is deprecated and will be removed in a future version.\n",
            "Instructions for updating:\n",
            "Call initializer instance with the dtype argument instead of passing it to the constructor\n"
          ],
          "name": "stderr"
        },
        {
          "output_type": "stream",
          "text": [
            "Model: \"sequential\"\n",
            "_________________________________________________________________\n",
            "Layer (type)                 Output Shape              Param #   \n",
            "=================================================================\n",
            "embedding (Embedding)        (None, None, 32)          320000    \n",
            "_________________________________________________________________\n",
            "lstm (LSTM)                  (None, 32)                8320      \n",
            "_________________________________________________________________\n",
            "dense (Dense)                (None, 1)                 33        \n",
            "=================================================================\n",
            "Total params: 328,353\n",
            "Trainable params: 328,353\n",
            "Non-trainable params: 0\n",
            "_________________________________________________________________\n"
          ],
          "name": "stdout"
        }
      ]
    },
    {
      "cell_type": "code",
      "metadata": {
        "id": "ya_W0O7eFshu",
        "colab_type": "code",
        "outputId": "0f8528ff-ee5f-4a5b-98f8-b2f13d761546",
        "colab": {
          "base_uri": "https://localhost:8080/",
          "height": 459
        }
      },
      "source": [
        "lstm.compile(optimizer='rmsprop',loss='binary_crossentropy',metrics=['acc'])\n",
        "history = lstm.fit(x=input_train,y=y_train,epochs=10,batch_size=128,validation_split=0.2)"
      ],
      "execution_count": 0,
      "outputs": [
        {
          "output_type": "stream",
          "text": [
            "W0726 02:29:09.605914 139953744705408 deprecation.py:323] From /usr/local/lib/python3.6/dist-packages/tensorflow/python/ops/nn_impl.py:180: add_dispatch_support.<locals>.wrapper (from tensorflow.python.ops.array_ops) is deprecated and will be removed in a future version.\n",
            "Instructions for updating:\n",
            "Use tf.where in 2.0, which has the same broadcast rule as np.where\n"
          ],
          "name": "stderr"
        },
        {
          "output_type": "stream",
          "text": [
            "Train on 20000 samples, validate on 5000 samples\n",
            "Epoch 1/10\n",
            "20000/20000 [==============================] - 120s 6ms/sample - loss: 0.5240 - acc: 0.7528 - val_loss: 0.3409 - val_acc: 0.8702\n",
            "Epoch 2/10\n",
            "20000/20000 [==============================] - 118s 6ms/sample - loss: 0.2988 - acc: 0.8832 - val_loss: 0.3421 - val_acc: 0.8758\n",
            "Epoch 3/10\n",
            "20000/20000 [==============================] - 117s 6ms/sample - loss: 0.2397 - acc: 0.9089 - val_loss: 0.2772 - val_acc: 0.8868\n",
            "Epoch 4/10\n",
            "20000/20000 [==============================] - 112s 6ms/sample - loss: 0.2026 - acc: 0.9269 - val_loss: 0.2853 - val_acc: 0.8830\n",
            "Epoch 5/10\n",
            "20000/20000 [==============================] - 111s 6ms/sample - loss: 0.1787 - acc: 0.9348 - val_loss: 0.3234 - val_acc: 0.8588\n",
            "Epoch 6/10\n",
            "20000/20000 [==============================] - 111s 6ms/sample - loss: 0.1626 - acc: 0.9417 - val_loss: 0.3101 - val_acc: 0.8682\n",
            "Epoch 7/10\n",
            "20000/20000 [==============================] - 111s 6ms/sample - loss: 0.1475 - acc: 0.9477 - val_loss: 0.3107 - val_acc: 0.8892\n",
            "Epoch 8/10\n",
            "20000/20000 [==============================] - 110s 5ms/sample - loss: 0.1378 - acc: 0.9514 - val_loss: 0.3816 - val_acc: 0.8728\n",
            "Epoch 9/10\n",
            "20000/20000 [==============================] - 113s 6ms/sample - loss: 0.1216 - acc: 0.9585 - val_loss: 0.3363 - val_acc: 0.8714\n",
            "Epoch 10/10\n",
            "20000/20000 [==============================] - 110s 6ms/sample - loss: 0.1178 - acc: 0.9606 - val_loss: 0.3476 - val_acc: 0.8816\n"
          ],
          "name": "stdout"
        }
      ]
    },
    {
      "cell_type": "code",
      "metadata": {
        "id": "vUuYra29FvqB",
        "colab_type": "code",
        "outputId": "3465a430-ca1a-44fc-d27b-34f502826f99",
        "colab": {
          "base_uri": "https://localhost:8080/",
          "height": 281
        }
      },
      "source": [
        "#학습 과정 성능 지표의 시각화\n",
        "##시각화를 위해 matplot 라이브러리 임포트\n",
        "import matplotlib.pyplot as plt\n",
        "\n",
        "#모델 학습 과정의 성능지표가 저장된 history 객체에서 시각화 하고자 하는 정보를 추출\n",
        "acc = history.history['acc']\n",
        "val_acc = history.history['val_acc']\n",
        "loss = history.history['loss']\n",
        "val_loss = history.history['val_loss']\n",
        "\n",
        "epochs = range(1,len(acc)+1)\n",
        "\n",
        "#추출된 accuracy/ 검증 accu 정보를 plot 객체에 할당\n",
        "plt.plot(epochs, acc, 'bo',label='Training acc')\n",
        "plt.plot(epochs, val_acc, 'b',label='Validation acc')\n",
        "plt.title('Training and validation accuracy')\n",
        "plt.legend()\n",
        "\n",
        "plt.show()"
      ],
      "execution_count": 0,
      "outputs": [
        {
          "output_type": "display_data",
          "data": {
            "image/png": "[encoded data removed]",
            "text/plain": [
              "<Figure size 432x288 with 1 Axes>"
            ]
          },
          "metadata": {
            "tags": []
          }
        }
      ]
    },
    {
      "cell_type": "code",
      "metadata": {
        "id": "ry9BiiZnFz9g",
        "colab_type": "code",
        "outputId": "6f24ef5a-a1f4-4982-8dee-5e603b9881bd",
        "colab": {
          "base_uri": "https://localhost:8080/",
          "height": 281
        }
      },
      "source": [
        "#추출된 loss/ 검증 loss 정보를 plot 객체에 할당후 차트 렌더링 수행\n",
        "plt.plot(epochs, loss, 'bo',label='Training loss')\n",
        "plt.plot(epochs, val_loss, 'b',label='Validation loss')\n",
        "plt.title('Training and validation loss')\n",
        "plt.legend()\n",
        "\n",
        "plt.show()"
      ],
      "execution_count": 0,
      "outputs": [
        {
          "output_type": "display_data",
          "data": {
            "image/png": "[encoded data removed]",
            "text/plain": [
              "<Figure size 432x288 with 1 Axes>"
            ]
          },
          "metadata": {
            "tags": []
          }
        }
      ]
    },
    {
      "cell_type": "code",
      "metadata": {
        "id": "3TE9VRC9HCXF",
        "colab_type": "code",
        "outputId": "19fc13f5-87ce-4669-9349-0ca5d7d78f40",
        "colab": {
          "base_uri": "https://localhost:8080/",
          "height": 122
        }
      },
      "source": [
        "###CudnnLSTM 을 이용하여 감정분석\n",
        "from tensorflow.keras.datasets import imdb\n",
        "from tensorflow.keras.preprocessing import sequence\n",
        "\n",
        "max_features = 10000\n",
        "maxlen = 500\n",
        "batch_size = 32\n",
        "\n",
        "print('데이터 로딩 ... ')\n",
        "(input_train, y_train),(input_test, y_test) = imdb.load_data(num_words = max_features)\n",
        "print(len(input_train),'훈련 시퀀스')\n",
        "print(len(input_test),'테스트 시퀀스')\n",
        "\n",
        "print(\"시퀀스 패딩 (samples * time)\")\n",
        "input_train = sequence.pad_sequences(input_train,maxlen=maxlen)\n",
        "input_test = sequence.pad_sequences(input_test,maxlen=maxlen)\n",
        "print('input_train 크기: ', input_train.shape)\n",
        "print('input_test 크기: ', input_test.shape)"
      ],
      "execution_count": 0,
      "outputs": [
        {
          "output_type": "stream",
          "text": [
            "데이터 로딩 ... \n",
            "25000 훈련 시퀀스\n",
            "25000 테스트 시퀀스\n",
            "시퀀스 패딩 (samples * time)\n",
            "input_train 크기:  (25000, 500)\n",
            "input_test 크기:  (25000, 500)\n"
          ],
          "name": "stdout"
        }
      ]
    },
    {
      "cell_type": "code",
      "metadata": {
        "id": "ACyTOmEBQ-x8",
        "colab_type": "code",
        "outputId": "dae38a4d-caea-4261-e20d-0e30dda73d52",
        "colab": {
          "base_uri": "https://localhost:8080/",
          "height": 263
        }
      },
      "source": [
        "from tensorflow.keras.models import Sequential\n",
        "from tensorflow.keras.layers import CuDNNLSTM, Embedding\n",
        "from tensorflow.keras.layers import Dense\n",
        "cudnn = Sequential()\n",
        "cudnn.add(Embedding(input_dim=10000,output_dim=32))\n",
        "cudnn.add(CuDNNLSTM(units=32))\n",
        "cudnn.add(Dense(1,activation ='sigmoid'))\n",
        "cudnn.summary()"
      ],
      "execution_count": 0,
      "outputs": [
        {
          "output_type": "stream",
          "text": [
            "Model: \"sequential_3\"\n",
            "_________________________________________________________________\n",
            "Layer (type)                 Output Shape              Param #   \n",
            "=================================================================\n",
            "embedding_3 (Embedding)      (None, None, 32)          320000    \n",
            "_________________________________________________________________\n",
            "cu_dnnlstm (CuDNNLSTM)       (None, 32)                8448      \n",
            "_________________________________________________________________\n",
            "dense_2 (Dense)              (None, 1)                 33        \n",
            "=================================================================\n",
            "Total params: 328,481\n",
            "Trainable params: 328,481\n",
            "Non-trainable params: 0\n",
            "_________________________________________________________________\n"
          ],
          "name": "stdout"
        }
      ]
    },
    {
      "cell_type": "code",
      "metadata": {
        "id": "O1LqilpXRNwt",
        "colab_type": "code",
        "outputId": "b571c914-f50b-4e64-b3b2-5bdccaaead4f",
        "colab": {
          "base_uri": "https://localhost:8080/",
          "height": 386
        }
      },
      "source": [
        "cudnn.compile(optimizer='rmsprop',loss='binary_crossentropy',metrics=['acc'])\n",
        "history = cudnn.fit(x=input_train,y=y_train,epochs=10,batch_size=128,validation_split=0.2)"
      ],
      "execution_count": 0,
      "outputs": [
        {
          "output_type": "stream",
          "text": [
            "Train on 20000 samples, validate on 5000 samples\n",
            "Epoch 1/10\n",
            "20000/20000 [==============================] - 7s 340us/sample - loss: 0.5225 - acc: 0.7517 - val_loss: 0.3928 - val_acc: 0.8326\n",
            "Epoch 2/10\n",
            "20000/20000 [==============================] - 3s 172us/sample - loss: 0.3278 - acc: 0.8712 - val_loss: 0.3400 - val_acc: 0.8644\n",
            "Epoch 3/10\n",
            "20000/20000 [==============================] - 3s 171us/sample - loss: 0.2586 - acc: 0.9020 - val_loss: 0.3612 - val_acc: 0.8428\n",
            "Epoch 4/10\n",
            "20000/20000 [==============================] - 3s 172us/sample - loss: 0.2232 - acc: 0.9161 - val_loss: 0.3990 - val_acc: 0.8456\n",
            "Epoch 5/10\n",
            "20000/20000 [==============================] - 3s 171us/sample - loss: 0.1949 - acc: 0.9272 - val_loss: 0.2919 - val_acc: 0.8848\n",
            "Epoch 6/10\n",
            "20000/20000 [==============================] - 3s 171us/sample - loss: 0.1743 - acc: 0.9369 - val_loss: 0.3725 - val_acc: 0.8764\n",
            "Epoch 7/10\n",
            "20000/20000 [==============================] - 3s 173us/sample - loss: 0.1564 - acc: 0.9452 - val_loss: 0.4539 - val_acc: 0.8298\n",
            "Epoch 8/10\n",
            "20000/20000 [==============================] - 3s 170us/sample - loss: 0.1441 - acc: 0.9477 - val_loss: 0.3193 - val_acc: 0.8848\n",
            "Epoch 9/10\n",
            "20000/20000 [==============================] - 3s 170us/sample - loss: 0.1342 - acc: 0.9527 - val_loss: 0.3548 - val_acc: 0.8880\n",
            "Epoch 10/10\n",
            "20000/20000 [==============================] - 3s 173us/sample - loss: 0.1251 - acc: 0.9559 - val_loss: 0.3893 - val_acc: 0.8700\n"
          ],
          "name": "stdout"
        }
      ]
    },
    {
      "cell_type": "code",
      "metadata": {
        "id": "4J7PZAN6RT9t",
        "colab_type": "code",
        "outputId": "cc17373d-0189-4c63-edc4-f41dd7f1a4ca",
        "colab": {
          "base_uri": "https://localhost:8080/",
          "height": 545
        }
      },
      "source": [
        "#학습 과정 성능 지표의 시각화\n",
        "##시각화를 위해 matplot 라이브러리 임포트\n",
        "import matplotlib.pyplot as plt\n",
        "\n",
        "#모델 학습 과정의 성능지표가 저장된 history 객체에서 시각화 하고자 하는 정보를 추출\n",
        "acc = history.history['acc']\n",
        "val_acc = history.history['val_acc']\n",
        "loss = history.history['loss']\n",
        "val_loss = history.history['val_loss']\n",
        "\n",
        "epochs = range(1,len(acc)+1)\n",
        "\n",
        "#추출된 accuracy/ 검증 accu 정보를 plot 객체에 할당\n",
        "plt.plot(epochs, acc, 'bo',label='Training acc')\n",
        "plt.plot(epochs, val_acc, 'b',label='Validation acc')\n",
        "plt.title('Training and validation accuracy')\n",
        "plt.legend()\n",
        "\n",
        "plt.show()\n",
        "\n",
        "#추출된 loss/ 검증 loss 정보를 plot 객체에 할당후 차트 렌더링 수행\n",
        "plt.plot(epochs, loss, 'bo',label='Training loss')\n",
        "plt.plot(epochs, val_loss, 'b',label='Validation loss')\n",
        "plt.title('Training and validation loss')\n",
        "plt.legend()\n",
        "\n",
        "plt.show()"
      ],
      "execution_count": 0,
      "outputs": [
        {
          "output_type": "display_data",
          "data": {
            "image/png": "[encoded data removed]",
            "text/plain": [
              "<Figure size 432x288 with 1 Axes>"
            ]
          },
          "metadata": {
            "tags": []
          }
        },
        {
          "output_type": "display_data",
          "data": {
            "image/png": "[encoded data removed]",
            "text/plain": [
              "<Figure size 432x288 with 1 Axes>"
            ]
          },
          "metadata": {
            "tags": []
          }
        }
      ]
    },
    {
      "cell_type": "code",
      "metadata": {
        "id": "QeWWHt9EYjgI",
        "colab_type": "code",
        "outputId": "7f46db89-491c-4366-9f67-edac5e58da34",
        "colab": {
          "base_uri": "https://localhost:8080/",
          "height": 1000
        }
      },
      "source": [
        "###CudnnLSTM + layer 1 개 추가하여 감정분석\n",
        "from tensorflow.keras.datasets import imdb\n",
        "from tensorflow.keras.preprocessing import sequence\n",
        "\n",
        "max_features = 10000\n",
        "maxlen = 500\n",
        "batch_size = 32\n",
        "\n",
        "print('데이터 로딩 ... ')\n",
        "(input_train, y_train),(input_test, y_test) = imdb.load_data(num_words = max_features)\n",
        "print(len(input_train),'훈련 시퀀스')\n",
        "print(len(input_test),'테스트 시퀀스')\n",
        "\n",
        "print(\"시퀀스 패딩 (samples * time)\")\n",
        "input_train = sequence.pad_sequences(input_train,maxlen=maxlen)\n",
        "input_test = sequence.pad_sequences(input_test,maxlen=maxlen)\n",
        "print('input_train 크기: ', input_train.shape)\n",
        "print('input_test 크기: ', input_test.shape)\n",
        "\n",
        "from tensorflow.keras.models import Sequential\n",
        "from tensorflow.keras.layers import CuDNNLSTM, Embedding\n",
        "from tensorflow.keras.layers import Dense\n",
        "\n",
        "###\n",
        "#######\n",
        "#여기서 hidden layer 한 층 더 추가하기\n",
        "###### RNN 계열은 OUTPUT (연산결과)를 찍어내지 않기때문에, 파라미터를 지정해서 명령어를 입력해줘야한다\n",
        "\n",
        "cudnn = Sequential()\n",
        "cudnn.add(Embedding(input_dim=10000,output_dim=32))\n",
        "cudnn.add(CuDNNLSTM(units=32,return_sequences=True))  #return_sequences=True 를 추가해준다\n",
        "cudnn.add(CuDNNLSTM(units=16))                          #\n",
        "cudnn.add(Dense(1,activation ='sigmoid'))\n",
        "\n",
        "\n",
        "cudnn.summary()\n",
        "\n",
        "cudnn.compile(optimizer='rmsprop',loss='binary_crossentropy',metrics=['acc'])\n",
        "history = cudnn.fit(x=input_train,y=y_train,epochs=10,batch_size=128,validation_split=0.2)\n",
        "\n",
        "#학습 과정 성능 지표의 시각화\n",
        "##시각화를 위해 matplot 라이브러리 임포트\n",
        "import matplotlib.pyplot as plt\n",
        "\n",
        "#모델 학습 과정의 성능지표가 저장된 history 객체에서 시각화 하고자 하는 정보를 추출\n",
        "acc = history.history['acc']\n",
        "val_acc = history.history['val_acc']\n",
        "loss = history.history['loss']\n",
        "val_loss = history.history['val_loss']\n",
        "\n",
        "epochs = range(1,len(acc)+1)\n",
        "\n",
        "#추출된 accuracy/ 검증 accu 정보를 plot 객체에 할당\n",
        "plt.plot(epochs, acc, 'bo',label='Training acc')\n",
        "plt.plot(epochs, val_acc, 'b',label='Validation acc')\n",
        "plt.title('Training and validation accuracy')\n",
        "plt.legend()\n",
        "\n",
        "plt.show()\n",
        "\n",
        "#추출된 loss/ 검증 loss 정보를 plot 객체에 할당후 차트 렌더링 수행\n",
        "plt.plot(epochs, loss, 'bo',label='Training loss')\n",
        "plt.plot(epochs, val_loss, 'b',label='Validation loss')\n",
        "plt.title('Training and validation loss')\n",
        "plt.legend()\n",
        "\n",
        "plt.show()"
      ],
      "execution_count": 0,
      "outputs": [
        {
          "output_type": "stream",
          "text": [
            "데이터 로딩 ... \n",
            "25000 훈련 시퀀스\n",
            "25000 테스트 시퀀스\n",
            "시퀀스 패딩 (samples * time)\n",
            "input_train 크기:  (25000, 500)\n",
            "input_test 크기:  (25000, 500)\n",
            "Model: \"sequential_5\"\n",
            "_________________________________________________________________\n",
            "Layer (type)                 Output Shape              Param #   \n",
            "=================================================================\n",
            "embedding_5 (Embedding)      (None, None, 32)          320000    \n",
            "_________________________________________________________________\n",
            "cu_dnnlstm_3 (CuDNNLSTM)     (None, None, 32)          8448      \n",
            "_________________________________________________________________\n",
            "cu_dnnlstm_4 (CuDNNLSTM)     (None, 16)                3200      \n",
            "_________________________________________________________________\n",
            "dense_4 (Dense)              (None, 1)                 17        \n",
            "=================================================================\n",
            "Total params: 331,665\n",
            "Trainable params: 331,665\n",
            "Non-trainable params: 0\n",
            "_________________________________________________________________\n",
            "Train on 20000 samples, validate on 5000 samples\n",
            "Epoch 1/10\n",
            "20000/20000 [==============================] - 7s 367us/sample - loss: 0.4945 - acc: 0.7574 - val_loss: 0.3292 - val_acc: 0.8660\n",
            "Epoch 2/10\n",
            "20000/20000 [==============================] - 7s 336us/sample - loss: 0.3077 - acc: 0.8765 - val_loss: 0.6491 - val_acc: 0.7682\n",
            "Epoch 3/10\n",
            "20000/20000 [==============================] - 7s 338us/sample - loss: 0.2479 - acc: 0.9065 - val_loss: 0.3081 - val_acc: 0.8720\n",
            "Epoch 4/10\n",
            "20000/20000 [==============================] - 7s 337us/sample - loss: 0.2148 - acc: 0.9229 - val_loss: 0.2899 - val_acc: 0.8852\n",
            "Epoch 5/10\n",
            "20000/20000 [==============================] - 7s 338us/sample - loss: 0.1863 - acc: 0.9313 - val_loss: 0.3364 - val_acc: 0.8558\n",
            "Epoch 6/10\n",
            "20000/20000 [==============================] - 7s 338us/sample - loss: 0.1696 - acc: 0.9393 - val_loss: 0.3274 - val_acc: 0.8732\n",
            "Epoch 7/10\n",
            "20000/20000 [==============================] - 7s 336us/sample - loss: 0.1616 - acc: 0.9446 - val_loss: 0.3411 - val_acc: 0.8686\n",
            "Epoch 8/10\n",
            "20000/20000 [==============================] - 7s 335us/sample - loss: 0.1475 - acc: 0.9496 - val_loss: 0.4782 - val_acc: 0.8324\n",
            "Epoch 9/10\n",
            "20000/20000 [==============================] - 7s 337us/sample - loss: 0.1349 - acc: 0.9532 - val_loss: 0.3517 - val_acc: 0.8822\n",
            "Epoch 10/10\n",
            "20000/20000 [==============================] - 7s 338us/sample - loss: 0.1275 - acc: 0.9543 - val_loss: 0.3700 - val_acc: 0.8796\n"
          ],
          "name": "stdout"
        },
        {
          "output_type": "display_data",
          "data": {
            "image/png": "[encoded data removed]",
            "text/plain": [
              "<Figure size 432x288 with 1 Axes>"
            ]
          },
          "metadata": {
            "tags": []
          }
        },
        {
          "output_type": "display_data",
          "data": {
            "image/png": "[encoded data removed]",
            "text/plain": [
              "<Figure size 432x288 with 1 Axes>"
            ]
          },
          "metadata": {
            "tags": []
          }
        }
      ]
    },
    {
      "cell_type": "code",
      "metadata": {
        "id": "rzpI-koUZc8a",
        "colab_type": "code",
        "colab": {}
      },
      "source": [
        ""
      ],
      "execution_count": 0,
      "outputs": []
    }
  ]
}