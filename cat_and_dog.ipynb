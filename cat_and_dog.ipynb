{
  "nbformat": 4,
  "nbformat_minor": 0,
  "metadata": {
    "colab": {
      "name": "cat_and_dog.ipynb",
      "version": "0.3.2",
      "provenance": [],
      "collapsed_sections": [],
      "include_colab_link": true
    },
    "kernelspec": {
      "name": "python3",
      "display_name": "Python 3"
    },
    "accelerator": "GPU"
  },
  "cells": [
    {
      "cell_type": "markdown",
      "metadata": {
        "id": "view-in-github",
        "colab_type": "text"
      },
      "source": [
        "<a href=\"https://colab.research.google.com/github/feuziq47/DL/blob/master/cat_and_dog.ipynb\" target=\"_parent\"><img src=\"https://colab.research.google.com/assets/colab-badge.svg\" alt=\"Open In Colab\"/></a>"
      ]
    },
    {
      "cell_type": "code",
      "metadata": {
        "id": "Jjd_i5astk88",
        "colab_type": "code",
        "outputId": "7526e095-db20-4fa7-c617-bdbbb6c31add",
        "colab": {
          "base_uri": "https://localhost:8080/",
          "height": 121
        }
      },
      "source": [
        "from google.colab import drive\n",
        "drive.mount('/content/drive')"
      ],
      "execution_count": 0,
      "outputs": [
        {
          "output_type": "stream",
          "text": [
            "Go to this URL in a browser: https://accounts.google.com/o/oauth2/auth?client_id=947318989803-6bn6qk8qdgf4n4g3pfee6491hc0brc4i.apps.googleusercontent.com&redirect_uri=urn%3Aietf%3Awg%3Aoauth%3A2.0%3Aoob&scope=email%20https%3A%2F%2Fwww.googleapis.com%2Fauth%2Fdocs.test%20https%3A%2F%2Fwww.googleapis.com%2Fauth%2Fdrive%20https%3A%2F%2Fwww.googleapis.com%2Fauth%2Fdrive.photos.readonly%20https%3A%2F%2Fwww.googleapis.com%2Fauth%2Fpeopleapi.readonly&response_type=code\n",
            "\n",
            "Enter your authorization code:\n",
            "··········\n",
            "Mounted at /content/drive\n"
          ],
          "name": "stdout"
        }
      ]
    },
    {
      "cell_type": "code",
      "metadata": {
        "id": "yhQIslr6tlub",
        "colab_type": "code",
        "outputId": "92eea409-d9af-4ad7-ee18-23282cbd4ee2",
        "colab": {
          "base_uri": "https://localhost:8080/",
          "height": 34
        }
      },
      "source": [
        "cd drive/My Drive/DeepLearn"
      ],
      "execution_count": 0,
      "outputs": [
        {
          "output_type": "stream",
          "text": [
            "/content/drive/My Drive/DeepLearn\n"
          ],
          "name": "stdout"
        }
      ]
    },
    {
      "cell_type": "code",
      "metadata": {
        "id": "tC_C8ps0wifv",
        "colab_type": "code",
        "outputId": "41189de5-171d-4b85-9253-2484ff8e121b",
        "colab": {
          "base_uri": "https://localhost:8080/",
          "height": 286
        }
      },
      "source": [
        "!nvidia-smi"
      ],
      "execution_count": 0,
      "outputs": [
        {
          "output_type": "stream",
          "text": [
            "Wed Jul 24 07:18:04 2019       \n",
            "+-----------------------------------------------------------------------------+\n",
            "| NVIDIA-SMI 418.67       Driver Version: 410.79       CUDA Version: 10.0     |\n",
            "|-------------------------------+----------------------+----------------------+\n",
            "| GPU  Name        Persistence-M| Bus-Id        Disp.A | Volatile Uncorr. ECC |\n",
            "| Fan  Temp  Perf  Pwr:Usage/Cap|         Memory-Usage | GPU-Util  Compute M. |\n",
            "|===============================+======================+======================|\n",
            "|   0  Tesla T4            Off  | 00000000:00:04.0 Off |                    0 |\n",
            "| N/A   43C    P0    26W /  70W |   3320MiB / 15079MiB |      0%      Default |\n",
            "+-------------------------------+----------------------+----------------------+\n",
            "                                                                               \n",
            "+-----------------------------------------------------------------------------+\n",
            "| Processes:                                                       GPU Memory |\n",
            "|  GPU       PID   Type   Process name                             Usage      |\n",
            "|=============================================================================|\n",
            "+-----------------------------------------------------------------------------+\n"
          ],
          "name": "stdout"
        }
      ]
    },
    {
      "cell_type": "code",
      "metadata": {
        "id": "TX_hmfpit7TY",
        "colab_type": "code",
        "colab": {}
      },
      "source": [
        "from tensorflow.keras import layers\n",
        "from tensorflow.keras import models\n",
        "from tensorflow.keras import optimizers\n",
        "from tensorflow.keras.preprocessing.image import ImageDataGenerator\n",
        "import matplotlib.pyplot as plt\n",
        "import os"
      ],
      "execution_count": 0,
      "outputs": []
    },
    {
      "cell_type": "code",
      "metadata": {
        "id": "N0fcUYQNw5ob",
        "colab_type": "code",
        "colab": {}
      },
      "source": [
        "base_dir='/content/drive/My Drive/DeepLearn/cats_and_dogs_small'\n",
        "train_dir=os.path.join(base_dir,'train')\n",
        "validation_dir=os.path.join(base_dir,'validation')\n",
        "test_dir=os.path.join(base_dir,'test')"
      ],
      "execution_count": 0,
      "outputs": []
    },
    {
      "cell_type": "code",
      "metadata": {
        "id": "eaLWRv_AxJQN",
        "colab_type": "code",
        "colab": {}
      },
      "source": [
        "model=models.Sequential()\n",
        "model.add(layers.Conv2D(32,(3,3),activation='relu',input_shape=(150,150,3)))\n",
        "model.add(layers.MaxPooling2D((2,2)))\n",
        "model.add(layers.Conv2D(64,(3,3),activation='relu'))\n",
        "model.add(layers.MaxPooling2D((2,2)))\n",
        "model.add(layers.Conv2D(128,(3,3),activation='relu'))\n",
        "model.add(layers.MaxPooling2D((2,2)))\n",
        "model.add(layers.Flatten())\n",
        "model.add(layers.Dense(512,activation='relu'))\n",
        "model.add(layers.Dense(1,activation='sigmoid'))"
      ],
      "execution_count": 0,
      "outputs": []
    },
    {
      "cell_type": "code",
      "metadata": {
        "id": "71wajWvQyfju",
        "colab_type": "code",
        "outputId": "5a048974-b3f1-4d10-b1b0-39d7f0ff54ab",
        "colab": {
          "base_uri": "https://localhost:8080/",
          "height": 87
        }
      },
      "source": [
        "model.compile(loss='binary_crossentropy',optimizer=optimizers.RMSprop(lr=1e-4),metrics=['acc'])"
      ],
      "execution_count": 0,
      "outputs": [
        {
          "output_type": "stream",
          "text": [
            "W0724 07:06:53.259764 139622148458368 deprecation.py:323] From /usr/local/lib/python3.6/dist-packages/tensorflow/python/ops/nn_impl.py:180: add_dispatch_support.<locals>.wrapper (from tensorflow.python.ops.array_ops) is deprecated and will be removed in a future version.\n",
            "Instructions for updating:\n",
            "Use tf.where in 2.0, which has the same broadcast rule as np.where\n"
          ],
          "name": "stderr"
        }
      ]
    },
    {
      "cell_type": "code",
      "metadata": {
        "id": "thULDs3qzegq",
        "colab_type": "code",
        "outputId": "c6db9312-6c44-4d62-892d-2e6bd66dbd3e",
        "colab": {
          "base_uri": "https://localhost:8080/",
          "height": 50
        }
      },
      "source": [
        "train_datagen=ImageDataGenerator(rescale=1./255)\n",
        "test_datagen=ImageDataGenerator(rescale=1./255)\n",
        "\n",
        "train_generator=train_datagen.flow_from_directory(\n",
        "            train_dir,target_size=(150,150),batch_size=20,class_mode='binary')\n",
        "validation_generator=test_datagen.flow_from_directory(\n",
        "            validation_dir,target_size=(150,150),batch_size=20,class_mode='binary')"
      ],
      "execution_count": 0,
      "outputs": [
        {
          "output_type": "stream",
          "text": [
            "Found 366 images belonging to 2 classes.\n",
            "Found 340 images belonging to 2 classes.\n"
          ],
          "name": "stdout"
        }
      ]
    },
    {
      "cell_type": "code",
      "metadata": {
        "id": "X5JjQr8V0Etu",
        "colab_type": "code",
        "outputId": "f681a1ae-0bb3-4a5e-a3fd-9fab3de8a623",
        "colab": {
          "base_uri": "https://localhost:8080/",
          "height": 1000
        }
      },
      "source": [
        "history=model.fit_generator(train_generator,steps_per_epoch=100,epochs=30,validation_data=validation_generator,validation_steps=50)"
      ],
      "execution_count": 0,
      "outputs": [
        {
          "output_type": "stream",
          "text": [
            "Epoch 1/30\n",
            "100/100 [==============================] - 196s 2s/step - loss: 0.6479 - acc: 0.6101 - val_loss: 0.6475 - val_acc: 0.5840\n",
            "Epoch 2/30\n",
            "100/100 [==============================] - 12s 116ms/step - loss: 0.4487 - acc: 0.8128 - val_loss: 0.5585 - val_acc: 0.7030\n",
            "Epoch 3/30\n",
            "100/100 [==============================] - 12s 116ms/step - loss: 0.2717 - acc: 0.9166 - val_loss: 0.7241 - val_acc: 0.6680\n",
            "Epoch 4/30\n",
            "100/100 [==============================] - 12s 120ms/step - loss: 0.1428 - acc: 0.9645 - val_loss: 0.9917 - val_acc: 0.6360\n",
            "Epoch 5/30\n",
            "100/100 [==============================] - 12s 122ms/step - loss: 0.0603 - acc: 0.9911 - val_loss: 1.2457 - val_acc: 0.6390\n",
            "Epoch 6/30\n",
            "100/100 [==============================] - 12s 116ms/step - loss: 0.0429 - acc: 0.9907 - val_loss: 1.3413 - val_acc: 0.6660\n",
            "Epoch 7/30\n",
            "100/100 [==============================] - 12s 115ms/step - loss: 0.0218 - acc: 0.9959 - val_loss: 1.7148 - val_acc: 0.6170\n",
            "Epoch 8/30\n",
            "100/100 [==============================] - 12s 123ms/step - loss: 0.0281 - acc: 0.9932 - val_loss: 1.9011 - val_acc: 0.6060\n",
            "Epoch 9/30\n",
            "100/100 [==============================] - 11s 114ms/step - loss: 0.0092 - acc: 0.9964 - val_loss: 2.0018 - val_acc: 0.6410\n",
            "Epoch 10/30\n",
            "100/100 [==============================] - 12s 117ms/step - loss: 0.0073 - acc: 0.9974 - val_loss: 2.1382 - val_acc: 0.6390\n",
            "Epoch 11/30\n",
            "100/100 [==============================] - 12s 116ms/step - loss: 0.0068 - acc: 0.9953 - val_loss: 2.2228 - val_acc: 0.6310\n",
            "Epoch 12/30\n",
            "100/100 [==============================] - 12s 122ms/step - loss: 0.0063 - acc: 0.9984 - val_loss: 2.5534 - val_acc: 0.6100\n",
            "Epoch 13/30\n",
            "100/100 [==============================] - 12s 115ms/step - loss: 0.0139 - acc: 0.9959 - val_loss: 2.3829 - val_acc: 0.6350\n",
            "Epoch 14/30\n",
            "100/100 [==============================] - 11s 114ms/step - loss: 1.3324e-04 - acc: 1.0000 - val_loss: 2.5563 - val_acc: 0.6600\n",
            "Epoch 15/30\n",
            "100/100 [==============================] - 11s 115ms/step - loss: 0.0080 - acc: 0.9974 - val_loss: 2.8397 - val_acc: 0.6080\n",
            "Epoch 16/30\n",
            "100/100 [==============================] - 12s 122ms/step - loss: 0.0048 - acc: 0.9979 - val_loss: 3.0169 - val_acc: 0.6050\n",
            "Epoch 17/30\n",
            "100/100 [==============================] - 12s 115ms/step - loss: 2.9102e-05 - acc: 1.0000 - val_loss: 3.4555 - val_acc: 0.6140\n",
            "Epoch 18/30\n",
            "100/100 [==============================] - 12s 117ms/step - loss: 0.0035 - acc: 0.9990 - val_loss: 3.1260 - val_acc: 0.6170\n",
            "Epoch 19/30\n",
            "100/100 [==============================] - 12s 118ms/step - loss: 8.3962e-06 - acc: 1.0000 - val_loss: 3.7683 - val_acc: 0.6230\n",
            "Epoch 20/30\n",
            "100/100 [==============================] - 11s 115ms/step - loss: 0.0094 - acc: 0.9969 - val_loss: 3.2570 - val_acc: 0.6440\n",
            "Epoch 21/30\n",
            "100/100 [==============================] - 11s 112ms/step - loss: 3.7194e-06 - acc: 1.0000 - val_loss: 3.9031 - val_acc: 0.6150\n",
            "Epoch 22/30\n",
            "100/100 [==============================] - 12s 116ms/step - loss: 3.7496e-07 - acc: 1.0000 - val_loss: 4.8164 - val_acc: 0.6080\n",
            "Epoch 23/30\n",
            "100/100 [==============================] - 12s 119ms/step - loss: 6.8172e-08 - acc: 1.0000 - val_loss: 5.1014 - val_acc: 0.6120\n",
            "Epoch 24/30\n",
            "100/100 [==============================] - 11s 114ms/step - loss: 2.4518e-08 - acc: 1.0000 - val_loss: 5.3540 - val_acc: 0.6100\n",
            "Epoch 25/30\n",
            "100/100 [==============================] - 11s 112ms/step - loss: 1.3654e-08 - acc: 1.0000 - val_loss: 5.5112 - val_acc: 0.6100\n",
            "Epoch 26/30\n",
            "100/100 [==============================] - 11s 114ms/step - loss: 9.2857e-09 - acc: 1.0000 - val_loss: 5.6408 - val_acc: 0.5940\n",
            "Epoch 27/30\n",
            "100/100 [==============================] - 12s 120ms/step - loss: 7.6316e-09 - acc: 1.0000 - val_loss: 5.7041 - val_acc: 0.6050\n",
            "Epoch 28/30\n",
            "100/100 [==============================] - 11s 112ms/step - loss: 6.1888e-09 - acc: 1.0000 - val_loss: 5.8529 - val_acc: 0.5940\n",
            "Epoch 29/30\n",
            "100/100 [==============================] - 11s 113ms/step - loss: 5.3362e-09 - acc: 1.0000 - val_loss: 5.8464 - val_acc: 0.6080\n",
            "Epoch 30/30\n",
            "100/100 [==============================] - 11s 113ms/step - loss: 5.1518e-09 - acc: 1.0000 - val_loss: 5.7928 - val_acc: 0.6100\n"
          ],
          "name": "stdout"
        }
      ]
    },
    {
      "cell_type": "code",
      "metadata": {
        "id": "sn3UgTwY141d",
        "colab_type": "code",
        "colab": {}
      },
      "source": [
        "model.save('cats_and_dogs_small_1.h5')"
      ],
      "execution_count": 0,
      "outputs": []
    },
    {
      "cell_type": "code",
      "metadata": {
        "id": "kpOocLIX17oc",
        "colab_type": "code",
        "outputId": "2d0945f6-2de6-4a39-fb2a-52940ba11ff1",
        "colab": {
          "base_uri": "https://localhost:8080/",
          "height": 545
        }
      },
      "source": [
        "acc = history.history['acc']\n",
        "val_acc = history.history['val_acc']\n",
        "loss = history.history['loss']\n",
        "val_loss = history.history['val_loss']\n",
        "\n",
        "epochs = range(len(acc))\n",
        "\n",
        "plt.plot(epochs, acc, 'bo', label='Training acc')\n",
        "plt.plot(epochs, val_acc, 'b', label='Validation acc')\n",
        "plt.title('Training and validation accuracy')\n",
        "plt.legend()\n",
        "\n",
        "plt.figure()\n",
        "\n",
        "plt.plot(epochs, loss, 'bo', label='Training loss')\n",
        "plt.plot(epochs, val_loss, 'b', label='Validation loss')\n",
        "plt.title('Training and validation loss')\n",
        "plt.legend()\n",
        "\n",
        "plt.show()"
      ],
      "execution_count": 0,
      "outputs": [
        {
          "output_type": "display_data",
          "data": {
            "image/png": "[encoded data removed]",
            "text/plain": [
              "<Figure size 432x288 with 1 Axes>"
            ]
          },
          "metadata": {
            "tags": []
          }
        },
        {
          "output_type": "display_data",
          "data": {
            "image/png": "[encoded data removed]",
            "text/plain": [
              "<Figure size 432x288 with 1 Axes>"
            ]
          },
          "metadata": {
            "tags": []
          }
        }
      ]
    },
    {
      "cell_type": "code",
      "metadata": {
        "id": "H7Ipyc-k196D",
        "colab_type": "code",
        "outputId": "f7031d55-9374-4b32-d4e3-927cacc5b415",
        "colab": {
          "base_uri": "https://localhost:8080/",
          "height": 280
        }
      },
      "source": [
        ""
      ],
      "execution_count": 0,
      "outputs": [
        {
          "output_type": "error",
          "ename": "AttributeError",
          "evalue": "ignored",
          "traceback": [
            "\u001b[0;31m---------------------------------------------------------------------------\u001b[0m",
            "\u001b[0;31mAttributeError\u001b[0m                            Traceback (most recent call last)",
            "\u001b[0;32m<ipython-input-22-3106c1022a96>\u001b[0m in \u001b[0;36m<module>\u001b[0;34m()\u001b[0m\n\u001b[0;32m----> 1\u001b[0;31m \u001b[0mmodel_load\u001b[0m \u001b[0;34m=\u001b[0m \u001b[0mmodels\u001b[0m\u001b[0;34m.\u001b[0m\u001b[0mload_lodel\u001b[0m\u001b[0;34m(\u001b[0m\u001b[0;34m''\u001b[0m\u001b[0;34m)\u001b[0m\u001b[0;34m\u001b[0m\u001b[0;34m\u001b[0m\u001b[0m\n\u001b[0m",
            "\u001b[0;32m/usr/local/lib/python3.6/dist-packages/tensorflow/python/util/deprecation_wrapper.py\u001b[0m in \u001b[0;36m__getattr__\u001b[0;34m(self, name)\u001b[0m\n\u001b[1;32m    104\u001b[0m     \u001b[0;32mif\u001b[0m \u001b[0mname\u001b[0m\u001b[0;34m.\u001b[0m\u001b[0mstartswith\u001b[0m\u001b[0;34m(\u001b[0m\u001b[0;34m'_dw_'\u001b[0m\u001b[0;34m)\u001b[0m\u001b[0;34m:\u001b[0m\u001b[0;34m\u001b[0m\u001b[0;34m\u001b[0m\u001b[0m\n\u001b[1;32m    105\u001b[0m       \u001b[0;32mraise\u001b[0m \u001b[0mAttributeError\u001b[0m\u001b[0;34m(\u001b[0m\u001b[0;34m'Accessing local variables before they are created.'\u001b[0m\u001b[0;34m)\u001b[0m\u001b[0;34m\u001b[0m\u001b[0;34m\u001b[0m\u001b[0m\n\u001b[0;32m--> 106\u001b[0;31m     \u001b[0mattr\u001b[0m \u001b[0;34m=\u001b[0m \u001b[0mgetattr\u001b[0m\u001b[0;34m(\u001b[0m\u001b[0mself\u001b[0m\u001b[0;34m.\u001b[0m\u001b[0m_dw_wrapped_module\u001b[0m\u001b[0;34m,\u001b[0m \u001b[0mname\u001b[0m\u001b[0;34m)\u001b[0m\u001b[0;34m\u001b[0m\u001b[0;34m\u001b[0m\u001b[0m\n\u001b[0m\u001b[1;32m    107\u001b[0m     if (self._dw_warning_count < _PER_MODULE_WARNING_LIMIT and\n\u001b[1;32m    108\u001b[0m         name not in self._dw_deprecated_printed):\n",
            "\u001b[0;31mAttributeError\u001b[0m: module 'tensorflow.python.keras.api._v1.keras.models' has no attribute 'load_lodel'"
          ]
        }
      ]
    },
    {
      "cell_type": "code",
      "metadata": {
        "id": "4pQH2RkV4bE2",
        "colab_type": "code",
        "colab": {}
      },
      "source": [
        ""
      ],
      "execution_count": 0,
      "outputs": []
    }
  ]
}